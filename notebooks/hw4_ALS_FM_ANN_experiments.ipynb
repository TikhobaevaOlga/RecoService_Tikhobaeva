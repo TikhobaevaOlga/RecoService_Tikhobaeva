{
  "cells": [
    {
      "cell_type": "markdown",
      "metadata": {
        "id": "TIEA5pGdJGBt"
      },
      "source": [
        "# Домашние задание №4. Работа с моделями ALS, LightFM, ANN"
      ]
    },
    {
      "cell_type": "code",
      "execution_count": null,
      "metadata": {
        "colab": {
          "base_uri": "https://localhost:8080/"
        },
        "id": "B6fCnYuYMjOZ",
        "outputId": "c40751f8-d000-4a22-a757-0932aa1c5154"
      },
      "outputs": [
        {
          "name": "stdout",
          "output_type": "stream",
          "text": [
            "\u001b[2K     \u001b[90m━━━━━━━━━━━━━━━━━━━━━━━━━━━━━━━━━━━━━━━━\u001b[0m \u001b[32m8.9/8.9 MB\u001b[0m \u001b[31m20.4 MB/s\u001b[0m eta \u001b[36m0:00:00\u001b[0m\n",
            "\u001b[2K     \u001b[90m━━━━━━━━━━━━━━━━━━━━━━━━━━━━━━━━━━━━━━━━\u001b[0m \u001b[32m102.5/102.5 kB\u001b[0m \u001b[31m1.9 MB/s\u001b[0m eta \u001b[36m0:00:00\u001b[0m\n",
            "\u001b[2K     \u001b[90m━━━━━━━━━━━━━━━━━━━━━━━━━━━━━━━━━━━━━━━━\u001b[0m \u001b[32m316.4/316.4 kB\u001b[0m \u001b[31m5.3 MB/s\u001b[0m eta \u001b[36m0:00:00\u001b[0m\n",
            "\u001b[?25h  Preparing metadata (setup.py) ... \u001b[?25l\u001b[?25hdone\n",
            "  Building wheel for lightfm (setup.py) ... \u001b[?25l\u001b[?25hdone\n",
            "\u001b[2K     \u001b[90m━━━━━━━━━━━━━━━━━━━━━━━━━━━━━━━━━━━━━━━━\u001b[0m \u001b[32m413.4/413.4 kB\u001b[0m \u001b[31m6.5 MB/s\u001b[0m eta \u001b[36m0:00:00\u001b[0m\n",
            "\u001b[2K     \u001b[90m━━━━━━━━━━━━━━━━━━━━━━━━━━━━━━━━━━━━━━━━\u001b[0m \u001b[32m230.6/230.6 kB\u001b[0m \u001b[31m25.7 MB/s\u001b[0m eta \u001b[36m0:00:00\u001b[0m\n",
            "\u001b[2K     \u001b[90m━━━━━━━━━━━━━━━━━━━━━━━━━━━━━━━━━━━━━━━━\u001b[0m \u001b[32m78.6/78.6 kB\u001b[0m \u001b[31m9.6 MB/s\u001b[0m eta \u001b[36m0:00:00\u001b[0m\n",
            "\u001b[?25h"
          ]
        }
      ],
      "source": [
        "!pip -q install implicit\n",
        "!pip -q install rectools\n",
        "!pip -q install lightfm\n",
        "!pip -q install optuna"
      ]
    },
    {
      "cell_type": "code",
      "execution_count": null,
      "metadata": {
        "id": "wZyqGjAgWj-g"
      },
      "outputs": [],
      "source": [
        "!pip -q install nmslib"
      ]
    },
    {
      "cell_type": "code",
      "execution_count": null,
      "metadata": {
        "id": "OSYk72neYKEa"
      },
      "outputs": [],
      "source": [
        "!pip -q install rectools[nmslib]"
      ]
    },
    {
      "cell_type": "code",
      "execution_count": null,
      "metadata": {
        "colab": {
          "base_uri": "https://localhost:8080/"
        },
        "id": "HR-xhg-APkV2",
        "outputId": "212a016c-d5c3-4a6b-e5b4-180fda3d0db1"
      },
      "outputs": [
        {
          "name": "stderr",
          "output_type": "stream",
          "text": [
            "/usr/local/lib/python3.10/dist-packages/implicit/gpu/__init__.py:13: UserWarning: CUDA extension is built, but disabling GPU support because of 'Cuda Error: CUDA driver version is insufficient for CUDA runtime version (/project/./implicit/gpu/utils.h:71)'\n",
            "  warnings.warn(\n"
          ]
        }
      ],
      "source": [
        "import os\n",
        "from typing import List\n",
        "from pathlib import Path\n",
        "import pickle\n",
        "import json\n",
        "import warnings\n",
        "\n",
        "import matplotlib.pyplot as plt\n",
        "import numpy as np\n",
        "import pandas as pd\n",
        "import seaborn as sns\n",
        "from implicit.gpu.als import AlternatingLeastSquares\n",
        "from implicit.als import AlternatingLeastSquares as CPUAlternatingLeastSquares\n",
        "from implicit.lmf import LogisticMatrixFactorization\n",
        "from lightfm import LightFM\n",
        "from rectools import Columns\n",
        "from rectools.dataset import Dataset\n",
        "from rectools.metrics import (\n",
        "    MAP,\n",
        "    MeanInvUserFreq,\n",
        "    Precision,\n",
        "    Recall,\n",
        "    Serendipity,\n",
        "    calc_metrics,\n",
        ")\n",
        "from rectools.model_selection import TimeRangeSplitter, cross_validate\n",
        "from rectools.models import ImplicitALSWrapperModel, LightFMWrapperModel\n",
        "from rectools.tools import UserToItemAnnRecommender\n",
        "from tqdm import tqdm\n",
        "\n",
        "import optuna\n",
        "\n",
        "warnings.filterwarnings('ignore')"
      ]
    },
    {
      "cell_type": "code",
      "execution_count": null,
      "metadata": {
        "id": "WRyouaYUaULn"
      },
      "outputs": [],
      "source": [
        "os.environ[\"OPENBLAS_NUM_THREADS\"] = \"1\"  # For implicit ALS"
      ]
    },
    {
      "cell_type": "markdown",
      "metadata": {
        "id": "UEH6fkl-aZRE"
      },
      "source": [
        "## Подготовка данных"
      ]
    },
    {
      "cell_type": "markdown",
      "metadata": {
        "id": "2-C_3sKdiUXe"
      },
      "source": [
        "### Загрузка данных"
      ]
    },
    {
      "cell_type": "code",
      "execution_count": null,
      "metadata": {
        "colab": {
          "base_uri": "https://localhost:8080/"
        },
        "id": "Rzz-Z7BVkOFG",
        "outputId": "57c51bcf-ccf1-4492-d9e0-74845f275d3b"
      },
      "outputs": [
        {
          "name": "stdout",
          "output_type": "stream",
          "text": [
            "Mounted at /content/drive\n"
          ]
        }
      ],
      "source": [
        "from google.colab import drive\n",
        "drive.mount('/content/drive')"
      ]
    },
    {
      "cell_type": "code",
      "execution_count": null,
      "metadata": {
        "id": "SHPvYAQ1abdl"
      },
      "outputs": [],
      "source": [
        "DATA_PATH = Path(\"/content/drive/MyDrive/recsys_course/data_kion\")"
      ]
    },
    {
      "cell_type": "code",
      "execution_count": null,
      "metadata": {
        "colab": {
          "base_uri": "https://localhost:8080/"
        },
        "id": "GGOx5HX7ameF",
        "outputId": "faacacea-83fe-482f-a825-cca27418a127"
      },
      "outputs": [
        {
          "name": "stdout",
          "output_type": "stream",
          "text": [
            "CPU times: user 5.83 s, sys: 733 ms, total: 6.56 s\n",
            "Wall time: 15.1 s\n"
          ]
        }
      ],
      "source": [
        "%%time\n",
        "users = pd.read_csv(DATA_PATH / 'users.csv')\n",
        "items = pd.read_csv(DATA_PATH / 'items.csv')\n",
        "interactions = pd.read_csv(DATA_PATH / 'interactions.csv')"
      ]
    },
    {
      "cell_type": "code",
      "execution_count": null,
      "metadata": {
        "id": "LQLzzjkpoqlJ"
      },
      "outputs": [],
      "source": [
        "Columns.Datetime = \"last_watch_dt\"\n",
        "interactions.drop(interactions[interactions[Columns.Datetime].str.len() != 10].index, inplace=True)\n",
        "interactions[Columns.Datetime] = pd.to_datetime(interactions[Columns.Datetime], format=\"%Y-%m-%d\")\n",
        "max_date = interactions[Columns.Datetime].max()\n",
        "interactions[Columns.Weight] = np.where(interactions[\"watched_pct\"] > 10, 3, 1)"
      ]
    },
    {
      "cell_type": "code",
      "execution_count": null,
      "metadata": {
        "colab": {
          "base_uri": "https://localhost:8080/"
        },
        "id": "SQdQ1iezPxTs",
        "outputId": "5be40e48-cff6-42bc-b368-cfeab15a3834"
      },
      "outputs": [
        {
          "name": "stdout",
          "output_type": "stream",
          "text": [
            "train: (3832711, 6)\n",
            "test: (333026, 6)\n"
          ]
        }
      ],
      "source": [
        "# разделим данные на train/test;\n",
        "# на train-е мы будем делать кросс-валидацию\n",
        "# на test-е сравним модели при подборе гиперпараметров\n",
        "train = interactions[interactions[Columns.Datetime] < max_date - pd.Timedelta(days=7)].copy()\n",
        "test = interactions[interactions[Columns.Datetime] >= max_date - pd.Timedelta(days=7)].copy()\n",
        "\n",
        "train.drop(train.query(\"total_dur < 300\").index, inplace=True)\n",
        "\n",
        "# отфильтруем холодных пользователей из теста\n",
        "cold_users = set(test[Columns.User]) - set(train[Columns.User])\n",
        "test.drop(test[test[Columns.User].isin(cold_users)].index, inplace=True)\n",
        "\n",
        "print(f\"train: {train.shape}\")\n",
        "print(f\"test: {test.shape}\")"
      ]
    },
    {
      "cell_type": "markdown",
      "metadata": {
        "id": "0S_hL52yiY-u"
      },
      "source": [
        "### Подготовка признаков"
      ]
    },
    {
      "cell_type": "code",
      "execution_count": null,
      "metadata": {
        "id": "lRz8Z1uvicIT"
      },
      "outputs": [],
      "source": [
        "def get_users_features(users: pd.DataFrame, interactions: pd.DataFrame, features_to_get: List[str]):\n",
        "  users.fillna('Unknown', inplace=True)\n",
        "  users = users.loc[users[Columns.User].isin(interactions[Columns.User])].copy()\n",
        "  user_features_frames = []\n",
        "  for feature in features_to_get:\n",
        "    feature_frame = users.reindex(columns=[Columns.User, feature])\n",
        "    feature_frame.columns = [\"id\", \"value\"]\n",
        "    feature_frame[\"feature\"] = feature\n",
        "    user_features_frames.append(feature_frame)\n",
        "  user_features = pd.concat(user_features_frames)\n",
        "  return user_features"
      ]
    },
    {
      "cell_type": "code",
      "execution_count": null,
      "metadata": {
        "id": "NMWL94bakkgS"
      },
      "outputs": [],
      "source": [
        "def get_items_features(items: pd.DataFrame, interactions: pd.DataFrame):\n",
        "  items = items.loc[items[Columns.Item].isin(interactions[Columns.Item])].copy()\n",
        "  # получаем жанры в нужном формате\n",
        "  items[\"genre\"] = items[\"genres\"].str.lower().str.replace(\", \", \",\", regex=False).str.split(\",\")\n",
        "  genre_feature = items[[\"item_id\", \"genre\"]].explode(\"genre\")\n",
        "  genre_feature.columns = [\"id\", \"value\"]\n",
        "  genre_feature[\"feature\"] = \"genre\"\n",
        "  # получаем тип контента в нужном формате\n",
        "  content_feature = items.reindex(columns=[Columns.Item, \"content_type\"])\n",
        "  content_feature.columns = [\"id\", \"value\"]\n",
        "  content_feature[\"feature\"] = \"content_type\"\n",
        "  # получаем страну производства в нужном формате\n",
        "  items[\"country\"] = items[\"countries\"].str.lower().str.replace(\", \", \",\", regex=False).str.split(\",\")\n",
        "  country_feature = items[[\"item_id\", \"country\"]].explode(\"country\")\n",
        "  country_feature.columns = [\"id\", \"value\"]\n",
        "  country_feature[\"feature\"] = \"country\"\n",
        "  # получаем год выпуска в нужном формате\n",
        "  items['binned_r_year'] = pd.qcut(items['release_year'], q=10, labels=list(range(10)))\n",
        "  release_year_feature = items.reindex(columns=[Columns.Item, \"binned_r_year\"])\n",
        "  release_year_feature.columns = [\"id\", \"value\"]\n",
        "  release_year_feature[\"feature\"] = \"binned_r_year\"\n",
        "  # смержим все признаки в один фрейм\n",
        "  item_features = pd.concat((genre_feature, content_feature, country_feature, release_year_feature))\n",
        "  return item_features"
      ]
    },
    {
      "cell_type": "code",
      "execution_count": null,
      "metadata": {
        "id": "BarPJGj-oeWe"
      },
      "outputs": [],
      "source": [
        "user_features = get_users_features(users, train, [\"sex\", \"age\", \"income\"])\n",
        "item_features = get_items_features(items, train)"
      ]
    },
    {
      "cell_type": "code",
      "execution_count": null,
      "metadata": {
        "colab": {
          "base_uri": "https://localhost:8080/",
          "height": 204
        },
        "id": "d6Lr68KxotIF",
        "outputId": "e900f73f-52cf-42e1-a342-da92c958f697"
      },
      "outputs": [
        {
          "data": {
            "text/html": [
              "\n",
              "  <div id=\"df-7435b185-dbc0-4d91-98de-22b726989d76\" class=\"colab-df-container\">\n",
              "    <div>\n",
              "<style scoped>\n",
              "    .dataframe tbody tr th:only-of-type {\n",
              "        vertical-align: middle;\n",
              "    }\n",
              "\n",
              "    .dataframe tbody tr th {\n",
              "        vertical-align: top;\n",
              "    }\n",
              "\n",
              "    .dataframe thead th {\n",
              "        text-align: right;\n",
              "    }\n",
              "</style>\n",
              "<table border=\"1\" class=\"dataframe\">\n",
              "  <thead>\n",
              "    <tr style=\"text-align: right;\">\n",
              "      <th></th>\n",
              "      <th>id</th>\n",
              "      <th>value</th>\n",
              "      <th>feature</th>\n",
              "    </tr>\n",
              "  </thead>\n",
              "  <tbody>\n",
              "    <tr>\n",
              "      <th>0</th>\n",
              "      <td>973171</td>\n",
              "      <td>М</td>\n",
              "      <td>sex</td>\n",
              "    </tr>\n",
              "    <tr>\n",
              "      <th>1</th>\n",
              "      <td>962099</td>\n",
              "      <td>М</td>\n",
              "      <td>sex</td>\n",
              "    </tr>\n",
              "    <tr>\n",
              "      <th>3</th>\n",
              "      <td>721985</td>\n",
              "      <td>Ж</td>\n",
              "      <td>sex</td>\n",
              "    </tr>\n",
              "    <tr>\n",
              "      <th>4</th>\n",
              "      <td>704055</td>\n",
              "      <td>Ж</td>\n",
              "      <td>sex</td>\n",
              "    </tr>\n",
              "    <tr>\n",
              "      <th>5</th>\n",
              "      <td>1037719</td>\n",
              "      <td>М</td>\n",
              "      <td>sex</td>\n",
              "    </tr>\n",
              "  </tbody>\n",
              "</table>\n",
              "</div>\n",
              "    <div class=\"colab-df-buttons\">\n",
              "\n",
              "  <div class=\"colab-df-container\">\n",
              "    <button class=\"colab-df-convert\" onclick=\"convertToInteractive('df-7435b185-dbc0-4d91-98de-22b726989d76')\"\n",
              "            title=\"Convert this dataframe to an interactive table.\"\n",
              "            style=\"display:none;\">\n",
              "\n",
              "  <svg xmlns=\"http://www.w3.org/2000/svg\" height=\"24px\" viewBox=\"0 -960 960 960\">\n",
              "    <path d=\"M120-120v-720h720v720H120Zm60-500h600v-160H180v160Zm220 220h160v-160H400v160Zm0 220h160v-160H400v160ZM180-400h160v-160H180v160Zm440 0h160v-160H620v160ZM180-180h160v-160H180v160Zm440 0h160v-160H620v160Z\"/>\n",
              "  </svg>\n",
              "    </button>\n",
              "\n",
              "  <style>\n",
              "    .colab-df-container {\n",
              "      display:flex;\n",
              "      gap: 12px;\n",
              "    }\n",
              "\n",
              "    .colab-df-convert {\n",
              "      background-color: #E8F0FE;\n",
              "      border: none;\n",
              "      border-radius: 50%;\n",
              "      cursor: pointer;\n",
              "      display: none;\n",
              "      fill: #1967D2;\n",
              "      height: 32px;\n",
              "      padding: 0 0 0 0;\n",
              "      width: 32px;\n",
              "    }\n",
              "\n",
              "    .colab-df-convert:hover {\n",
              "      background-color: #E2EBFA;\n",
              "      box-shadow: 0px 1px 2px rgba(60, 64, 67, 0.3), 0px 1px 3px 1px rgba(60, 64, 67, 0.15);\n",
              "      fill: #174EA6;\n",
              "    }\n",
              "\n",
              "    .colab-df-buttons div {\n",
              "      margin-bottom: 4px;\n",
              "    }\n",
              "\n",
              "    [theme=dark] .colab-df-convert {\n",
              "      background-color: #3B4455;\n",
              "      fill: #D2E3FC;\n",
              "    }\n",
              "\n",
              "    [theme=dark] .colab-df-convert:hover {\n",
              "      background-color: #434B5C;\n",
              "      box-shadow: 0px 1px 3px 1px rgba(0, 0, 0, 0.15);\n",
              "      filter: drop-shadow(0px 1px 2px rgba(0, 0, 0, 0.3));\n",
              "      fill: #FFFFFF;\n",
              "    }\n",
              "  </style>\n",
              "\n",
              "    <script>\n",
              "      const buttonEl =\n",
              "        document.querySelector('#df-7435b185-dbc0-4d91-98de-22b726989d76 button.colab-df-convert');\n",
              "      buttonEl.style.display =\n",
              "        google.colab.kernel.accessAllowed ? 'block' : 'none';\n",
              "\n",
              "      async function convertToInteractive(key) {\n",
              "        const element = document.querySelector('#df-7435b185-dbc0-4d91-98de-22b726989d76');\n",
              "        const dataTable =\n",
              "          await google.colab.kernel.invokeFunction('convertToInteractive',\n",
              "                                                    [key], {});\n",
              "        if (!dataTable) return;\n",
              "\n",
              "        const docLinkHtml = 'Like what you see? Visit the ' +\n",
              "          '<a target=\"_blank\" href=https://colab.research.google.com/notebooks/data_table.ipynb>data table notebook</a>'\n",
              "          + ' to learn more about interactive tables.';\n",
              "        element.innerHTML = '';\n",
              "        dataTable['output_type'] = 'display_data';\n",
              "        await google.colab.output.renderOutput(dataTable, element);\n",
              "        const docLink = document.createElement('div');\n",
              "        docLink.innerHTML = docLinkHtml;\n",
              "        element.appendChild(docLink);\n",
              "      }\n",
              "    </script>\n",
              "  </div>\n",
              "\n",
              "\n",
              "<div id=\"df-c241ce1f-f808-4651-a548-61b4d4d0f8b0\">\n",
              "  <button class=\"colab-df-quickchart\" onclick=\"quickchart('df-c241ce1f-f808-4651-a548-61b4d4d0f8b0')\"\n",
              "            title=\"Suggest charts\"\n",
              "            style=\"display:none;\">\n",
              "\n",
              "<svg xmlns=\"http://www.w3.org/2000/svg\" height=\"24px\"viewBox=\"0 0 24 24\"\n",
              "     width=\"24px\">\n",
              "    <g>\n",
              "        <path d=\"M19 3H5c-1.1 0-2 .9-2 2v14c0 1.1.9 2 2 2h14c1.1 0 2-.9 2-2V5c0-1.1-.9-2-2-2zM9 17H7v-7h2v7zm4 0h-2V7h2v10zm4 0h-2v-4h2v4z\"/>\n",
              "    </g>\n",
              "</svg>\n",
              "  </button>\n",
              "\n",
              "<style>\n",
              "  .colab-df-quickchart {\n",
              "      --bg-color: #E8F0FE;\n",
              "      --fill-color: #1967D2;\n",
              "      --hover-bg-color: #E2EBFA;\n",
              "      --hover-fill-color: #174EA6;\n",
              "      --disabled-fill-color: #AAA;\n",
              "      --disabled-bg-color: #DDD;\n",
              "  }\n",
              "\n",
              "  [theme=dark] .colab-df-quickchart {\n",
              "      --bg-color: #3B4455;\n",
              "      --fill-color: #D2E3FC;\n",
              "      --hover-bg-color: #434B5C;\n",
              "      --hover-fill-color: #FFFFFF;\n",
              "      --disabled-bg-color: #3B4455;\n",
              "      --disabled-fill-color: #666;\n",
              "  }\n",
              "\n",
              "  .colab-df-quickchart {\n",
              "    background-color: var(--bg-color);\n",
              "    border: none;\n",
              "    border-radius: 50%;\n",
              "    cursor: pointer;\n",
              "    display: none;\n",
              "    fill: var(--fill-color);\n",
              "    height: 32px;\n",
              "    padding: 0;\n",
              "    width: 32px;\n",
              "  }\n",
              "\n",
              "  .colab-df-quickchart:hover {\n",
              "    background-color: var(--hover-bg-color);\n",
              "    box-shadow: 0 1px 2px rgba(60, 64, 67, 0.3), 0 1px 3px 1px rgba(60, 64, 67, 0.15);\n",
              "    fill: var(--button-hover-fill-color);\n",
              "  }\n",
              "\n",
              "  .colab-df-quickchart-complete:disabled,\n",
              "  .colab-df-quickchart-complete:disabled:hover {\n",
              "    background-color: var(--disabled-bg-color);\n",
              "    fill: var(--disabled-fill-color);\n",
              "    box-shadow: none;\n",
              "  }\n",
              "\n",
              "  .colab-df-spinner {\n",
              "    border: 2px solid var(--fill-color);\n",
              "    border-color: transparent;\n",
              "    border-bottom-color: var(--fill-color);\n",
              "    animation:\n",
              "      spin 1s steps(1) infinite;\n",
              "  }\n",
              "\n",
              "  @keyframes spin {\n",
              "    0% {\n",
              "      border-color: transparent;\n",
              "      border-bottom-color: var(--fill-color);\n",
              "      border-left-color: var(--fill-color);\n",
              "    }\n",
              "    20% {\n",
              "      border-color: transparent;\n",
              "      border-left-color: var(--fill-color);\n",
              "      border-top-color: var(--fill-color);\n",
              "    }\n",
              "    30% {\n",
              "      border-color: transparent;\n",
              "      border-left-color: var(--fill-color);\n",
              "      border-top-color: var(--fill-color);\n",
              "      border-right-color: var(--fill-color);\n",
              "    }\n",
              "    40% {\n",
              "      border-color: transparent;\n",
              "      border-right-color: var(--fill-color);\n",
              "      border-top-color: var(--fill-color);\n",
              "    }\n",
              "    60% {\n",
              "      border-color: transparent;\n",
              "      border-right-color: var(--fill-color);\n",
              "    }\n",
              "    80% {\n",
              "      border-color: transparent;\n",
              "      border-right-color: var(--fill-color);\n",
              "      border-bottom-color: var(--fill-color);\n",
              "    }\n",
              "    90% {\n",
              "      border-color: transparent;\n",
              "      border-bottom-color: var(--fill-color);\n",
              "    }\n",
              "  }\n",
              "</style>\n",
              "\n",
              "  <script>\n",
              "    async function quickchart(key) {\n",
              "      const quickchartButtonEl =\n",
              "        document.querySelector('#' + key + ' button');\n",
              "      quickchartButtonEl.disabled = true;  // To prevent multiple clicks.\n",
              "      quickchartButtonEl.classList.add('colab-df-spinner');\n",
              "      try {\n",
              "        const charts = await google.colab.kernel.invokeFunction(\n",
              "            'suggestCharts', [key], {});\n",
              "      } catch (error) {\n",
              "        console.error('Error during call to suggestCharts:', error);\n",
              "      }\n",
              "      quickchartButtonEl.classList.remove('colab-df-spinner');\n",
              "      quickchartButtonEl.classList.add('colab-df-quickchart-complete');\n",
              "    }\n",
              "    (() => {\n",
              "      let quickchartButtonEl =\n",
              "        document.querySelector('#df-c241ce1f-f808-4651-a548-61b4d4d0f8b0 button');\n",
              "      quickchartButtonEl.style.display =\n",
              "        google.colab.kernel.accessAllowed ? 'block' : 'none';\n",
              "    })();\n",
              "  </script>\n",
              "</div>\n",
              "    </div>\n",
              "  </div>\n"
            ],
            "text/plain": [
              "        id value feature\n",
              "0   973171     М     sex\n",
              "1   962099     М     sex\n",
              "3   721985     Ж     sex\n",
              "4   704055     Ж     sex\n",
              "5  1037719     М     sex"
            ]
          },
          "execution_count": 10,
          "metadata": {},
          "output_type": "execute_result"
        }
      ],
      "source": [
        "user_features.head()"
      ]
    },
    {
      "cell_type": "code",
      "execution_count": null,
      "metadata": {
        "colab": {
          "base_uri": "https://localhost:8080/",
          "height": 204
        },
        "id": "V8Y8UgDaouIw",
        "outputId": "bb6818ec-40d6-4c62-d75b-4b8438901571"
      },
      "outputs": [
        {
          "data": {
            "text/html": [
              "\n",
              "  <div id=\"df-97f955ce-d7cb-4d10-9083-06ba4e5ef05d\" class=\"colab-df-container\">\n",
              "    <div>\n",
              "<style scoped>\n",
              "    .dataframe tbody tr th:only-of-type {\n",
              "        vertical-align: middle;\n",
              "    }\n",
              "\n",
              "    .dataframe tbody tr th {\n",
              "        vertical-align: top;\n",
              "    }\n",
              "\n",
              "    .dataframe thead th {\n",
              "        text-align: right;\n",
              "    }\n",
              "</style>\n",
              "<table border=\"1\" class=\"dataframe\">\n",
              "  <thead>\n",
              "    <tr style=\"text-align: right;\">\n",
              "      <th></th>\n",
              "      <th>id</th>\n",
              "      <th>value</th>\n",
              "      <th>feature</th>\n",
              "    </tr>\n",
              "  </thead>\n",
              "  <tbody>\n",
              "    <tr>\n",
              "      <th>0</th>\n",
              "      <td>10711</td>\n",
              "      <td>драмы</td>\n",
              "      <td>genre</td>\n",
              "    </tr>\n",
              "    <tr>\n",
              "      <th>0</th>\n",
              "      <td>10711</td>\n",
              "      <td>зарубежные</td>\n",
              "      <td>genre</td>\n",
              "    </tr>\n",
              "    <tr>\n",
              "      <th>0</th>\n",
              "      <td>10711</td>\n",
              "      <td>детективы</td>\n",
              "      <td>genre</td>\n",
              "    </tr>\n",
              "    <tr>\n",
              "      <th>0</th>\n",
              "      <td>10711</td>\n",
              "      <td>мелодрамы</td>\n",
              "      <td>genre</td>\n",
              "    </tr>\n",
              "    <tr>\n",
              "      <th>1</th>\n",
              "      <td>2508</td>\n",
              "      <td>зарубежные</td>\n",
              "      <td>genre</td>\n",
              "    </tr>\n",
              "  </tbody>\n",
              "</table>\n",
              "</div>\n",
              "    <div class=\"colab-df-buttons\">\n",
              "\n",
              "  <div class=\"colab-df-container\">\n",
              "    <button class=\"colab-df-convert\" onclick=\"convertToInteractive('df-97f955ce-d7cb-4d10-9083-06ba4e5ef05d')\"\n",
              "            title=\"Convert this dataframe to an interactive table.\"\n",
              "            style=\"display:none;\">\n",
              "\n",
              "  <svg xmlns=\"http://www.w3.org/2000/svg\" height=\"24px\" viewBox=\"0 -960 960 960\">\n",
              "    <path d=\"M120-120v-720h720v720H120Zm60-500h600v-160H180v160Zm220 220h160v-160H400v160Zm0 220h160v-160H400v160ZM180-400h160v-160H180v160Zm440 0h160v-160H620v160ZM180-180h160v-160H180v160Zm440 0h160v-160H620v160Z\"/>\n",
              "  </svg>\n",
              "    </button>\n",
              "\n",
              "  <style>\n",
              "    .colab-df-container {\n",
              "      display:flex;\n",
              "      gap: 12px;\n",
              "    }\n",
              "\n",
              "    .colab-df-convert {\n",
              "      background-color: #E8F0FE;\n",
              "      border: none;\n",
              "      border-radius: 50%;\n",
              "      cursor: pointer;\n",
              "      display: none;\n",
              "      fill: #1967D2;\n",
              "      height: 32px;\n",
              "      padding: 0 0 0 0;\n",
              "      width: 32px;\n",
              "    }\n",
              "\n",
              "    .colab-df-convert:hover {\n",
              "      background-color: #E2EBFA;\n",
              "      box-shadow: 0px 1px 2px rgba(60, 64, 67, 0.3), 0px 1px 3px 1px rgba(60, 64, 67, 0.15);\n",
              "      fill: #174EA6;\n",
              "    }\n",
              "\n",
              "    .colab-df-buttons div {\n",
              "      margin-bottom: 4px;\n",
              "    }\n",
              "\n",
              "    [theme=dark] .colab-df-convert {\n",
              "      background-color: #3B4455;\n",
              "      fill: #D2E3FC;\n",
              "    }\n",
              "\n",
              "    [theme=dark] .colab-df-convert:hover {\n",
              "      background-color: #434B5C;\n",
              "      box-shadow: 0px 1px 3px 1px rgba(0, 0, 0, 0.15);\n",
              "      filter: drop-shadow(0px 1px 2px rgba(0, 0, 0, 0.3));\n",
              "      fill: #FFFFFF;\n",
              "    }\n",
              "  </style>\n",
              "\n",
              "    <script>\n",
              "      const buttonEl =\n",
              "        document.querySelector('#df-97f955ce-d7cb-4d10-9083-06ba4e5ef05d button.colab-df-convert');\n",
              "      buttonEl.style.display =\n",
              "        google.colab.kernel.accessAllowed ? 'block' : 'none';\n",
              "\n",
              "      async function convertToInteractive(key) {\n",
              "        const element = document.querySelector('#df-97f955ce-d7cb-4d10-9083-06ba4e5ef05d');\n",
              "        const dataTable =\n",
              "          await google.colab.kernel.invokeFunction('convertToInteractive',\n",
              "                                                    [key], {});\n",
              "        if (!dataTable) return;\n",
              "\n",
              "        const docLinkHtml = 'Like what you see? Visit the ' +\n",
              "          '<a target=\"_blank\" href=https://colab.research.google.com/notebooks/data_table.ipynb>data table notebook</a>'\n",
              "          + ' to learn more about interactive tables.';\n",
              "        element.innerHTML = '';\n",
              "        dataTable['output_type'] = 'display_data';\n",
              "        await google.colab.output.renderOutput(dataTable, element);\n",
              "        const docLink = document.createElement('div');\n",
              "        docLink.innerHTML = docLinkHtml;\n",
              "        element.appendChild(docLink);\n",
              "      }\n",
              "    </script>\n",
              "  </div>\n",
              "\n",
              "\n",
              "<div id=\"df-85fb0d44-2651-4271-8562-2ab6f2e661a0\">\n",
              "  <button class=\"colab-df-quickchart\" onclick=\"quickchart('df-85fb0d44-2651-4271-8562-2ab6f2e661a0')\"\n",
              "            title=\"Suggest charts\"\n",
              "            style=\"display:none;\">\n",
              "\n",
              "<svg xmlns=\"http://www.w3.org/2000/svg\" height=\"24px\"viewBox=\"0 0 24 24\"\n",
              "     width=\"24px\">\n",
              "    <g>\n",
              "        <path d=\"M19 3H5c-1.1 0-2 .9-2 2v14c0 1.1.9 2 2 2h14c1.1 0 2-.9 2-2V5c0-1.1-.9-2-2-2zM9 17H7v-7h2v7zm4 0h-2V7h2v10zm4 0h-2v-4h2v4z\"/>\n",
              "    </g>\n",
              "</svg>\n",
              "  </button>\n",
              "\n",
              "<style>\n",
              "  .colab-df-quickchart {\n",
              "      --bg-color: #E8F0FE;\n",
              "      --fill-color: #1967D2;\n",
              "      --hover-bg-color: #E2EBFA;\n",
              "      --hover-fill-color: #174EA6;\n",
              "      --disabled-fill-color: #AAA;\n",
              "      --disabled-bg-color: #DDD;\n",
              "  }\n",
              "\n",
              "  [theme=dark] .colab-df-quickchart {\n",
              "      --bg-color: #3B4455;\n",
              "      --fill-color: #D2E3FC;\n",
              "      --hover-bg-color: #434B5C;\n",
              "      --hover-fill-color: #FFFFFF;\n",
              "      --disabled-bg-color: #3B4455;\n",
              "      --disabled-fill-color: #666;\n",
              "  }\n",
              "\n",
              "  .colab-df-quickchart {\n",
              "    background-color: var(--bg-color);\n",
              "    border: none;\n",
              "    border-radius: 50%;\n",
              "    cursor: pointer;\n",
              "    display: none;\n",
              "    fill: var(--fill-color);\n",
              "    height: 32px;\n",
              "    padding: 0;\n",
              "    width: 32px;\n",
              "  }\n",
              "\n",
              "  .colab-df-quickchart:hover {\n",
              "    background-color: var(--hover-bg-color);\n",
              "    box-shadow: 0 1px 2px rgba(60, 64, 67, 0.3), 0 1px 3px 1px rgba(60, 64, 67, 0.15);\n",
              "    fill: var(--button-hover-fill-color);\n",
              "  }\n",
              "\n",
              "  .colab-df-quickchart-complete:disabled,\n",
              "  .colab-df-quickchart-complete:disabled:hover {\n",
              "    background-color: var(--disabled-bg-color);\n",
              "    fill: var(--disabled-fill-color);\n",
              "    box-shadow: none;\n",
              "  }\n",
              "\n",
              "  .colab-df-spinner {\n",
              "    border: 2px solid var(--fill-color);\n",
              "    border-color: transparent;\n",
              "    border-bottom-color: var(--fill-color);\n",
              "    animation:\n",
              "      spin 1s steps(1) infinite;\n",
              "  }\n",
              "\n",
              "  @keyframes spin {\n",
              "    0% {\n",
              "      border-color: transparent;\n",
              "      border-bottom-color: var(--fill-color);\n",
              "      border-left-color: var(--fill-color);\n",
              "    }\n",
              "    20% {\n",
              "      border-color: transparent;\n",
              "      border-left-color: var(--fill-color);\n",
              "      border-top-color: var(--fill-color);\n",
              "    }\n",
              "    30% {\n",
              "      border-color: transparent;\n",
              "      border-left-color: var(--fill-color);\n",
              "      border-top-color: var(--fill-color);\n",
              "      border-right-color: var(--fill-color);\n",
              "    }\n",
              "    40% {\n",
              "      border-color: transparent;\n",
              "      border-right-color: var(--fill-color);\n",
              "      border-top-color: var(--fill-color);\n",
              "    }\n",
              "    60% {\n",
              "      border-color: transparent;\n",
              "      border-right-color: var(--fill-color);\n",
              "    }\n",
              "    80% {\n",
              "      border-color: transparent;\n",
              "      border-right-color: var(--fill-color);\n",
              "      border-bottom-color: var(--fill-color);\n",
              "    }\n",
              "    90% {\n",
              "      border-color: transparent;\n",
              "      border-bottom-color: var(--fill-color);\n",
              "    }\n",
              "  }\n",
              "</style>\n",
              "\n",
              "  <script>\n",
              "    async function quickchart(key) {\n",
              "      const quickchartButtonEl =\n",
              "        document.querySelector('#' + key + ' button');\n",
              "      quickchartButtonEl.disabled = true;  // To prevent multiple clicks.\n",
              "      quickchartButtonEl.classList.add('colab-df-spinner');\n",
              "      try {\n",
              "        const charts = await google.colab.kernel.invokeFunction(\n",
              "            'suggestCharts', [key], {});\n",
              "      } catch (error) {\n",
              "        console.error('Error during call to suggestCharts:', error);\n",
              "      }\n",
              "      quickchartButtonEl.classList.remove('colab-df-spinner');\n",
              "      quickchartButtonEl.classList.add('colab-df-quickchart-complete');\n",
              "    }\n",
              "    (() => {\n",
              "      let quickchartButtonEl =\n",
              "        document.querySelector('#df-85fb0d44-2651-4271-8562-2ab6f2e661a0 button');\n",
              "      quickchartButtonEl.style.display =\n",
              "        google.colab.kernel.accessAllowed ? 'block' : 'none';\n",
              "    })();\n",
              "  </script>\n",
              "</div>\n",
              "    </div>\n",
              "  </div>\n"
            ],
            "text/plain": [
              "      id       value feature\n",
              "0  10711       драмы   genre\n",
              "0  10711  зарубежные   genre\n",
              "0  10711   детективы   genre\n",
              "0  10711   мелодрамы   genre\n",
              "1   2508  зарубежные   genre"
            ]
          },
          "execution_count": 11,
          "metadata": {},
          "output_type": "execute_result"
        }
      ],
      "source": [
        "item_features.head()"
      ]
    },
    {
      "cell_type": "markdown",
      "metadata": {
        "id": "8tz-7TC3oz21"
      },
      "source": [
        "### Инициализируем Dataset (Rectools)"
      ]
    },
    {
      "cell_type": "code",
      "execution_count": null,
      "metadata": {
        "id": "tZnQYP8NowA0"
      },
      "outputs": [],
      "source": [
        "dataset = Dataset.construct(\n",
        "    interactions_df=train,\n",
        "    user_features_df=user_features,\n",
        "    cat_user_features=[\"sex\", \"age\", \"income\"],\n",
        "    item_features_df=item_features,\n",
        "    cat_item_features=[\"genre\", \"content_type\", \"country\", \"binned_r_year\"],\n",
        ")"
      ]
    },
    {
      "cell_type": "code",
      "execution_count": null,
      "metadata": {
        "id": "2-VvPa-GpG77"
      },
      "outputs": [],
      "source": [
        "TEST_USERS = test[Columns.User].unique()"
      ]
    },
    {
      "cell_type": "markdown",
      "metadata": {
        "id": "uZ90KqmA0Uh2"
      },
      "source": [
        "## Подбираем гиперпараметры для моделей"
      ]
    },
    {
      "cell_type": "code",
      "execution_count": null,
      "metadata": {
        "id": "dmUskt9V0jUy"
      },
      "outputs": [],
      "source": [
        "K_RECOS = 10\n",
        "RANDOM_STATE = 1008\n",
        "N_EPOCHS = 1 # Lightfm"
      ]
    },
    {
      "cell_type": "code",
      "execution_count": null,
      "metadata": {
        "id": "y5N7YeAt48An"
      },
      "outputs": [],
      "source": [
        "metrics = {\n",
        "    \"map@10\": MAP(k=10),\n",
        "    \"precision@10\": Precision(k=10),\n",
        "    \"recall@10\": Recall(k=10),\n",
        "}"
      ]
    },
    {
      "cell_type": "markdown",
      "metadata": {
        "id": "3iCjmh_XEg32"
      },
      "source": [
        "### ImplicitALSWrapperModel"
      ]
    },
    {
      "cell_type": "code",
      "execution_count": null,
      "metadata": {
        "id": "TjmcRlas1VMh"
      },
      "outputs": [],
      "source": [
        "def objective_ImplicitALSWrapperModel(trial):\n",
        "\n",
        "    n_factors = trial.suggest_int(\"n_factors\", low=32, high=128, step=32)\n",
        "    regularization = trial.suggest_float(\"regularization\", low=0.01, high=0.51, step=0.1)\n",
        "\n",
        "    model_obj = ImplicitALSWrapperModel(\n",
        "          model=AlternatingLeastSquares(\n",
        "              factors=n_factors,\n",
        "              regularization=regularization,\n",
        "              random_state=RANDOM_STATE,\n",
        "          ),\n",
        "          fit_features_together=True,\n",
        "      )\n",
        "\n",
        "    model_obj.fit(dataset)\n",
        "    recos = model_obj.recommend(\n",
        "      users=TEST_USERS,\n",
        "      dataset=dataset,\n",
        "      k=K_RECOS,\n",
        "      filter_viewed=True,\n",
        "    )\n",
        "    metric_values = calc_metrics(metrics, recos, test, train)\n",
        "\n",
        "    return metric_values['map@10'], metric_values['precision@10'], metric_values['recall@10']"
      ]
    },
    {
      "cell_type": "code",
      "execution_count": null,
      "metadata": {
        "colab": {
          "base_uri": "https://localhost:8080/"
        },
        "id": "JVEbW1I46ZII",
        "outputId": "acab1418-639d-48f8-ad85-329bc5ef4d5f"
      },
      "outputs": [
        {
          "name": "stderr",
          "output_type": "stream",
          "text": [
            "[I 2023-12-10 14:07:11,122] A new study created in memory with name: no-name-5ef410c4-c98c-44f5-af74-48fc2ccd4cdc\n",
            "[I 2023-12-10 14:08:45,079] Trial 0 finished with values: [0.07137507308676502, 0.029929985749311806, 0.1418593446154553] and parameters: {'n_factors': 96, 'regularization': 0.51}. \n",
            "[I 2023-12-10 14:10:00,933] Trial 1 finished with values: [0.07471662487622824, 0.030955858272037673, 0.14605920896136587] and parameters: {'n_factors': 32, 'regularization': 0.01}. \n",
            "[I 2023-12-10 14:11:24,416] Trial 2 finished with values: [0.07175445965761339, 0.030134452145126882, 0.14252391120828675] and parameters: {'n_factors': 64, 'regularization': 0.51}. \n",
            "[I 2023-12-10 14:12:57,050] Trial 3 finished with values: [0.07120716328543755, 0.030253945493330502, 0.14300302465062698] and parameters: {'n_factors': 64, 'regularization': 0.51}. \n",
            "[I 2023-12-10 14:14:43,291] Trial 4 finished with values: [0.07144256566219208, 0.029839701886224635, 0.1412178228769466] and parameters: {'n_factors': 128, 'regularization': 0.11}. \n",
            "[I 2023-12-10 14:16:12,370] Trial 5 finished with values: [0.0727138664173833, 0.03074431078892164, 0.14508146010083894] and parameters: {'n_factors': 64, 'regularization': 0.21000000000000002}. \n",
            "[I 2023-12-10 14:17:30,334] Trial 6 finished with values: [0.074892452378878, 0.031306372093434946, 0.14817443095790567] and parameters: {'n_factors': 32, 'regularization': 0.01}. \n",
            "[I 2023-12-10 14:18:56,944] Trial 7 finished with values: [0.07309365419336084, 0.030433628083592238, 0.14381509828319666] and parameters: {'n_factors': 64, 'regularization': 0.01}. \n",
            "[I 2023-12-10 14:20:41,961] Trial 8 finished with values: [0.07144256566219208, 0.029839701886224635, 0.1412178228769466] and parameters: {'n_factors': 128, 'regularization': 0.11}. \n",
            "[I 2023-12-10 14:22:00,256] Trial 9 finished with values: [0.07364532663357845, 0.030762013507174023, 0.14494315402506752] and parameters: {'n_factors': 32, 'regularization': 0.31000000000000005}. \n",
            "[I 2023-12-10 14:23:25,959] Trial 10 finished with values: [0.07340626321285093, 0.03063809447940731, 0.1446629887395659] and parameters: {'n_factors': 64, 'regularization': 0.21000000000000002}. \n",
            "[I 2023-12-10 14:24:51,027] Trial 11 finished with values: [0.07329320818789381, 0.030421236180815565, 0.14396097173359684] and parameters: {'n_factors': 64, 'regularization': 0.01}. \n",
            "[I 2023-12-10 14:26:36,664] Trial 12 finished with values: [0.07144256566219208, 0.029839701886224635, 0.1412178228769466] and parameters: {'n_factors': 128, 'regularization': 0.11}. \n",
            "[I 2023-12-10 14:27:52,658] Trial 13 finished with values: [0.0741011972516728, 0.031672818361259375, 0.14958313667682516] and parameters: {'n_factors': 32, 'regularization': 0.51}. \n",
            "[I 2023-12-10 14:29:09,636] Trial 14 finished with values: [0.07351915160841459, 0.030218540056825727, 0.14243737024231926] and parameters: {'n_factors': 32, 'regularization': 0.01}. \n",
            "[I 2023-12-10 14:30:58,075] Trial 15 finished with values: [0.07144256566219208, 0.029839701886224635, 0.1412178228769466] and parameters: {'n_factors': 128, 'regularization': 0.11}. \n",
            "[I 2023-12-10 14:32:33,465] Trial 16 finished with values: [0.06930953319740182, 0.03004151287430185, 0.14203434041087704] and parameters: {'n_factors': 96, 'regularization': 0.51}. \n",
            "[I 2023-12-10 14:34:21,626] Trial 17 finished with values: [0.07018947484527006, 0.02975030315905007, 0.14087241452819088] and parameters: {'n_factors': 128, 'regularization': 0.51}. \n",
            "[I 2023-12-10 14:35:57,406] Trial 18 finished with values: [0.06957282465359653, 0.029709586907069575, 0.14019782621922194] and parameters: {'n_factors': 96, 'regularization': 0.11}. \n",
            "[I 2023-12-10 14:37:22,462] Trial 19 finished with values: [0.07415852189936029, 0.031329385627163045, 0.14858782742596588] and parameters: {'n_factors': 64, 'regularization': 0.11}. \n"
          ]
        }
      ],
      "source": [
        "study = optuna.create_study(directions=[\"maximize\", \"maximize\", \"maximize\"])\n",
        "study.optimize(objective_ImplicitALSWrapperModel, n_trials=20)"
      ]
    },
    {
      "cell_type": "code",
      "execution_count": null,
      "metadata": {
        "colab": {
          "base_uri": "https://localhost:8080/"
        },
        "id": "F-MADw2EKcLV",
        "outputId": "efed950b-c6a9-4659-d23e-78a19a52644d"
      },
      "outputs": [
        {
          "name": "stdout",
          "output_type": "stream",
          "text": [
            "Лучшие метрики: 'map@10': 0.075, 'precision@10': 0.031, 'recall@10': 0.148\n",
            "Лучшие параметры: {'n_factors': 32, 'regularization': 0.01}\n",
            "Лучшие метрики: 'map@10': 0.074, 'precision@10': 0.032, 'recall@10': 0.15\n",
            "Лучшие параметры: {'n_factors': 32, 'regularization': 0.51}\n",
            "Лучшие метрики: 'map@10': 0.074, 'precision@10': 0.031, 'recall@10': 0.149\n",
            "Лучшие параметры: {'n_factors': 64, 'regularization': 0.11}\n"
          ]
        }
      ],
      "source": [
        "for trial in study.best_trials:\n",
        "  print(f\"Лучшие метрики: 'map@10': {round(trial.values[0], 3)}, 'precision@10': {round(trial.values[1], 3)}, 'recall@10': {round(trial.values[2], 3)}\")\n",
        "  print(f\"Лучшие параметры: {trial.params}\")"
      ]
    },
    {
      "cell_type": "markdown",
      "metadata": {
        "id": "Q7ZziFFVElt_"
      },
      "source": [
        "### LightFMWrapperModel"
      ]
    },
    {
      "cell_type": "code",
      "execution_count": null,
      "metadata": {
        "id": "jlLx_SbJEvx6"
      },
      "outputs": [],
      "source": [
        "def objective_LightFMWrapperModel(trial):\n",
        "    n_factors = trial.suggest_int(\"n_factors\", low=16, high=64, step=16)\n",
        "    loss = trial.suggest_categorical(\"loss\", choices=['logistic', 'warp'])\n",
        "    lr = trial.suggest_float(\"lr\", 1e-3, 1e-1, log=True)\n",
        "    item_alpha = trial.suggest_float(\"item_alpha\", 0, 1)\n",
        "    user_alpha = trial.suggest_float(\"user_alpha\", 0, 1)\n",
        "\n",
        "    model_obj = LightFMWrapperModel(\n",
        "      model=LightFM(\n",
        "        no_components=n_factors,\n",
        "        loss=loss,\n",
        "        random_state=RANDOM_STATE,\n",
        "        learning_rate=lr,\n",
        "        user_alpha=user_alpha,\n",
        "        item_alpha=item_alpha,\n",
        "      ),\n",
        "      epochs=N_EPOCHS,\n",
        "      num_threads=2,\n",
        "    )\n",
        "\n",
        "    model_obj.fit(dataset)\n",
        "    recos = model_obj.recommend(\n",
        "      users=TEST_USERS,\n",
        "      dataset=dataset,\n",
        "      k=K_RECOS,\n",
        "      filter_viewed=True,\n",
        "    )\n",
        "    metric_values = calc_metrics(metrics, recos, test, train)\n",
        "\n",
        "    return metric_values['map@10'], metric_values['precision@10'], metric_values['recall@10']"
      ]
    },
    {
      "cell_type": "code",
      "execution_count": null,
      "metadata": {
        "colab": {
          "base_uri": "https://localhost:8080/"
        },
        "id": "cRlfEQtNHo0o",
        "outputId": "50765d66-ccb9-4f4d-8d2c-773cba7fef4a"
      },
      "outputs": [
        {
          "name": "stderr",
          "output_type": "stream",
          "text": [
            "[I 2023-12-11 15:10:21,895] A new study created in memory with name: no-name-f7318147-e627-402f-9683-f72a00321459\n",
            "[I 2023-12-11 15:11:08,959] Trial 0 finished with values: [0.07083245185148171, 0.03158164936225958, 0.1489910176822698] and parameters: {'n_factors': 16, 'loss': 'warp', 'lr': 0.047056730749378564, 'item_alpha': 0.5319631978329716, 'user_alpha': 0.7306057571768695}. \n",
            "[I 2023-12-11 15:11:59,769] Trial 1 finished with values: [0.00040980252214975173, 0.00035936518052346933, 0.0011236202314321225] and parameters: {'n_factors': 48, 'loss': 'logistic', 'lr': 0.0016031485500636901, 'item_alpha': 0.6666520284934133, 'user_alpha': 0.7645103609090356}. \n",
            "[I 2023-12-11 15:13:31,930] Trial 2 finished with values: [0.073977362094152, 0.03310673853970278, 0.15843010652208717] and parameters: {'n_factors': 64, 'loss': 'warp', 'lr': 0.009062298232854862, 'item_alpha': 0.8764324952261785, 'user_alpha': 0.8847573526935165}. \n",
            "[I 2023-12-11 15:17:12,563] Trial 3 finished with values: [0.00020061045330857158, 0.0002885543075139188, 0.0009199946059587163] and parameters: {'n_factors': 64, 'loss': 'logistic', 'lr': 0.09038767019005955, 'item_alpha': 0.5349440730657167, 'user_alpha': 0.6559293688566672}. \n",
            "[I 2023-12-11 15:18:55,126] Trial 4 finished with values: [0.07821457201240477, 0.03555325420218275, 0.17200556561488228] and parameters: {'n_factors': 64, 'loss': 'warp', 'lr': 0.013681895729046522, 'item_alpha': 0.5801959801737767, 'user_alpha': 0.4233951257813444}. \n",
            "[I 2023-12-11 15:19:43,809] Trial 5 finished with values: [0.07701337806054319, 0.03451853032033068, 0.16655266708863076] and parameters: {'n_factors': 48, 'loss': 'warp', 'lr': 0.0012825937413999907, 'item_alpha': 0.9526359849466479, 'user_alpha': 0.674394502996234}. \n",
            "[I 2023-12-11 15:21:24,001] Trial 6 finished with values: [0.00036826397120237294, 0.0004098179275427742, 0.0012787223561324407] and parameters: {'n_factors': 64, 'loss': 'logistic', 'lr': 0.017863266253612547, 'item_alpha': 0.9871819770827387, 'user_alpha': 0.8019005253542003}. \n",
            "[I 2023-12-11 15:22:25,322] Trial 7 finished with values: [0.07398182716449095, 0.03093992582561052, 0.14536204456190222] and parameters: {'n_factors': 32, 'loss': 'warp', 'lr': 0.006649044706051081, 'item_alpha': 0.627130795956804, 'user_alpha': 0.9900794502219586}. \n",
            "[I 2023-12-11 15:23:08,107] Trial 8 finished with values: [0.00042106460683100186, 0.0003575949086982306, 0.0011197846424774382] and parameters: {'n_factors': 32, 'loss': 'logistic', 'lr': 0.0050146012915561105, 'item_alpha': 0.8434432080379393, 'user_alpha': 0.9185727900452602}. \n",
            "[I 2023-12-11 15:23:49,996] Trial 9 finished with values: [0.07324175894939763, 0.03230303513104438, 0.15385142525485768] and parameters: {'n_factors': 16, 'loss': 'warp', 'lr': 0.025303039998908535, 'item_alpha': 0.6433841459090662, 'user_alpha': 0.6015889880318124}. \n",
            "[I 2023-12-11 15:27:06,102] Trial 10 finished with values: [0.00041016507426127225, 0.00036025031643608887, 0.0011592112444280109] and parameters: {'n_factors': 64, 'loss': 'logistic', 'lr': 0.08245217705207583, 'item_alpha': 0.7291058419176543, 'user_alpha': 0.6308534330334851}. \n",
            "[I 2023-12-11 15:28:06,002] Trial 11 finished with values: [0.000423726039696838, 0.0003637908600865663, 0.001129327550478709] and parameters: {'n_factors': 64, 'loss': 'logistic', 'lr': 0.0035400875866162065, 'item_alpha': 0.3690446929139819, 'user_alpha': 0.8925596676322247}. \n",
            "[I 2023-12-11 15:29:02,125] Trial 12 finished with values: [0.00036138444735184596, 0.00020269612398983862, 0.0006906721718160016] and parameters: {'n_factors': 48, 'loss': 'logistic', 'lr': 0.006163100360436034, 'item_alpha': 0.28635833619276063, 'user_alpha': 0.9896096091232346}. \n",
            "[I 2023-12-11 15:30:10,927] Trial 13 finished with values: [0.033597077101261266, 0.018552448728502265, 0.08665943416099078] and parameters: {'n_factors': 64, 'loss': 'warp', 'lr': 0.0013814554823515788, 'item_alpha': 0.2710392121887456, 'user_alpha': 0.886830567031967}. \n",
            "[I 2023-12-11 15:31:07,926] Trial 14 finished with values: [0.07621814403399116, 0.03450171273799092, 0.16649000340618283] and parameters: {'n_factors': 64, 'loss': 'warp', 'lr': 0.0019972888653463196, 'item_alpha': 0.2781398826215081, 'user_alpha': 0.4161156367793002}. \n",
            "[I 2023-12-11 15:32:03,000] Trial 15 finished with values: [0.058385558589556595, 0.028738592810926118, 0.13637890490296553] and parameters: {'n_factors': 48, 'loss': 'warp', 'lr': 0.023363541572866332, 'item_alpha': 0.9605419612617216, 'user_alpha': 0.09005926571194045}. \n",
            "[I 2023-12-11 15:33:10,535] Trial 16 finished with values: [0.00033259223423432496, 0.0001832231339122122, 0.000659270975639047] and parameters: {'n_factors': 16, 'loss': 'logistic', 'lr': 0.057937452456988316, 'item_alpha': 0.40392300263600844, 'user_alpha': 0.13689102274496645}. \n",
            "[I 2023-12-11 15:33:53,001] Trial 17 finished with values: [0.00041106451167491613, 0.00035936518052346933, 0.0011236202314321225] and parameters: {'n_factors': 32, 'loss': 'logistic', 'lr': 0.0031182708158446646, 'item_alpha': 0.6284556362035422, 'user_alpha': 0.9230168934399755}. \n",
            "[I 2023-12-11 15:34:27,013] Trial 18 finished with values: [0.000414889083957256, 0.0003575949086982306, 0.0011197846424774382] and parameters: {'n_factors': 16, 'loss': 'logistic', 'lr': 0.0018785011173517807, 'item_alpha': 0.276475108151797, 'user_alpha': 0.7439570669766786}. \n",
            "[I 2023-12-11 15:35:04,539] Trial 19 finished with values: [0.0003593827000576256, 0.0003637908600865663, 0.001129327550478709] and parameters: {'n_factors': 32, 'loss': 'logistic', 'lr': 0.0036090107423366368, 'item_alpha': 0.05840520589435261, 'user_alpha': 0.035327888082723025}. \n"
          ]
        }
      ],
      "source": [
        "study = optuna.create_study(directions=[\"maximize\", \"maximize\", \"maximize\"])\n",
        "study.optimize(objective_LightFMWrapperModel, n_trials=20)"
      ]
    },
    {
      "cell_type": "code",
      "execution_count": null,
      "metadata": {
        "colab": {
          "base_uri": "https://localhost:8080/"
        },
        "id": "T2ySVpp4I7Sa",
        "outputId": "0047a9b3-5471-4c0e-d62a-2c51f160abbb"
      },
      "outputs": [
        {
          "name": "stdout",
          "output_type": "stream",
          "text": [
            "Лучшие метрики: 'map@10': 0.078, 'precision@10': 0.036, 'recall@10': 0.172\n",
            "Лучшие параметры: {'n_factors': 64, 'loss': 'warp', 'lr': 0.013681895729046522, 'item_alpha': 0.5801959801737767, 'user_alpha': 0.4233951257813444}\n"
          ]
        }
      ],
      "source": [
        "for trial in study.best_trials:\n",
        "  print(f\"Лучшие метрики: 'map@10': {round(trial.values[0], 3)}, 'precision@10': {round(trial.values[1], 3)}, 'recall@10': {round(trial.values[2], 3)}\")\n",
        "  print(f\"Лучшие параметры: {trial.params}\")"
      ]
    },
    {
      "cell_type": "markdown",
      "metadata": {
        "id": "YCh0Lz2bJtSA"
      },
      "source": [
        "## Кросс-валидация моделей с лучшими параметрами"
      ]
    },
    {
      "cell_type": "code",
      "execution_count": null,
      "metadata": {
        "id": "MoRTrYyAJyRS"
      },
      "outputs": [],
      "source": [
        "# модели\n",
        "models = {\n",
        "    \"ALS\": ImplicitALSWrapperModel(\n",
        "        model=AlternatingLeastSquares(\n",
        "            factors=32,\n",
        "            regularization=0.01,\n",
        "            random_state=RANDOM_STATE,\n",
        "        ),\n",
        "        fit_features_together=True,\n",
        "    ),\n",
        "    \"LightFM\": LightFMWrapperModel(\n",
        "        LightFM(\n",
        "            no_components=64,\n",
        "            loss=\"warp\",\n",
        "            random_state=RANDOM_STATE,\n",
        "            learning_rate=0.013681895729046522,\n",
        "            user_alpha=0.4233951257813444,\n",
        "            item_alpha=0.5801959801737767,\n",
        "        ),\n",
        "        epochs=N_EPOCHS,\n",
        "        num_threads=2,\n",
        "    ),\n",
        "}"
      ]
    },
    {
      "cell_type": "code",
      "execution_count": null,
      "metadata": {
        "colab": {
          "base_uri": "https://localhost:8080/"
        },
        "id": "qfqQ_rkWNqhG",
        "outputId": "eec48b51-69c9-4d20-b473-dc2c3673e6b7"
      },
      "outputs": [
        {
          "data": {
            "text/plain": [
              "{'precision@1': Precision(k=1),\n",
              " 'precision@5': Precision(k=5),\n",
              " 'precision@10': Precision(k=10),\n",
              " 'recall@1': Recall(k=1),\n",
              " 'recall@5': Recall(k=5),\n",
              " 'recall@10': Recall(k=10),\n",
              " 'MAP@1': MAP(k=1, divide_by_k=False),\n",
              " 'MAP@5': MAP(k=5, divide_by_k=False),\n",
              " 'MAP@10': MAP(k=10, divide_by_k=False),\n",
              " 'novelty@1': MeanInvUserFreq(k=1),\n",
              " 'novelty@5': MeanInvUserFreq(k=5),\n",
              " 'novelty@10': MeanInvUserFreq(k=10),\n",
              " 'serendipity@1': Serendipity(k=1),\n",
              " 'serendipity@5': Serendipity(k=5),\n",
              " 'serendipity@10': Serendipity(k=10)}"
            ]
          },
          "execution_count": 24,
          "metadata": {},
          "output_type": "execute_result"
        }
      ],
      "source": [
        "# метрики\n",
        "metrics_name = {\n",
        "    \"precision\": Precision,\n",
        "    \"recall\": Recall,\n",
        "    \"MAP\": MAP,\n",
        "    \"novelty\": MeanInvUserFreq,\n",
        "    \"serendipity\": Serendipity,\n",
        "}\n",
        "\n",
        "metrics = {}\n",
        "for metric_name, metric in metrics_name.items():\n",
        "    for k in [1, 5, 10]:\n",
        "        metrics[f\"{metric_name}@{k}\"] = metric(k=k)\n",
        "\n",
        "metrics"
      ]
    },
    {
      "cell_type": "code",
      "execution_count": null,
      "metadata": {
        "colab": {
          "base_uri": "https://localhost:8080/"
        },
        "id": "zaQMfnycPVRk",
        "outputId": "d83fdf58-b249-424d-9683-9816eaae105a"
      },
      "outputs": [
        {
          "data": {
            "text/plain": [
              "[(Timestamp('2021-06-06 00:00:00', freq='14D'),\n",
              "  Timestamp('2021-06-20 00:00:00', freq='14D')),\n",
              " (Timestamp('2021-06-20 00:00:00', freq='14D'),\n",
              "  Timestamp('2021-07-04 00:00:00', freq='14D')),\n",
              " (Timestamp('2021-07-04 00:00:00', freq='14D'),\n",
              "  Timestamp('2021-07-18 00:00:00', freq='14D')),\n",
              " (Timestamp('2021-07-18 00:00:00', freq='14D'),\n",
              "  Timestamp('2021-08-01 00:00:00', freq='14D')),\n",
              " (Timestamp('2021-08-01 00:00:00', freq='14D'),\n",
              "  Timestamp('2021-08-15 00:00:00', freq='14D'))]"
            ]
          },
          "execution_count": 25,
          "metadata": {},
          "output_type": "execute_result"
        }
      ],
      "source": [
        "# разбиваем данные на фолды, оставляя на валидацию по 2 недели\n",
        "TEST_SIZE = \"14D\"\n",
        "N_SPLITS = 5\n",
        "\n",
        "splitter = TimeRangeSplitter(\n",
        "    test_size=TEST_SIZE,\n",
        "    n_splits=N_SPLITS,\n",
        "    filter_already_seen=True,\n",
        "    filter_cold_items=True,\n",
        "    filter_cold_users=True,\n",
        ")\n",
        "\n",
        "splitter.get_test_fold_borders(dataset.interactions)"
      ]
    },
    {
      "cell_type": "code",
      "execution_count": null,
      "metadata": {
        "colab": {
          "base_uri": "https://localhost:8080/"
        },
        "id": "A_gQfw_-Pqv4",
        "outputId": "85fdf251-4375-4663-d098-0273c4f71b61"
      },
      "outputs": [
        {
          "name": "stdout",
          "output_type": "stream",
          "text": [
            "CPU times: user 10min 59s, sys: 1min 55s, total: 12min 55s\n",
            "Wall time: 9min 8s\n"
          ]
        }
      ],
      "source": [
        "%%time\n",
        "\n",
        "results = cross_validate(dataset, splitter, metrics, models, k=10, filter_viewed=True)"
      ]
    },
    {
      "cell_type": "code",
      "execution_count": null,
      "metadata": {
        "colab": {
          "base_uri": "https://localhost:8080/",
          "height": 193
        },
        "id": "JW7TkN1tkPW6",
        "outputId": "bf4d0f8c-afeb-4223-993f-a82fd22f9016"
      },
      "outputs": [
        {
          "data": {
            "text/html": [
              "<style type=\"text/css\">\n",
              "#T_841db_row0_col0, #T_841db_row0_col1, #T_841db_row0_col6, #T_841db_row0_col7, #T_841db_row0_col8, #T_841db_row0_col9, #T_841db_row0_col10, #T_841db_row0_col11, #T_841db_row0_col12, #T_841db_row0_col13, #T_841db_row0_col14, #T_841db_row1_col2, #T_841db_row1_col3, #T_841db_row1_col4, #T_841db_row1_col5 {\n",
              "  background-color: lightgreen;\n",
              "}\n",
              "#T_841db_row0_col2, #T_841db_row0_col3, #T_841db_row0_col4, #T_841db_row0_col5, #T_841db_row1_col0, #T_841db_row1_col1, #T_841db_row1_col6, #T_841db_row1_col7, #T_841db_row1_col8, #T_841db_row1_col9, #T_841db_row1_col10, #T_841db_row1_col11, #T_841db_row1_col12, #T_841db_row1_col13, #T_841db_row1_col14 {\n",
              "  background-color: lightcoral;\n",
              "}\n",
              "</style>\n",
              "<table id=\"T_841db\" class=\"dataframe\">\n",
              "  <thead>\n",
              "    <tr>\n",
              "      <th class=\"blank level0\" >&nbsp;</th>\n",
              "      <th id=\"T_841db_level0_col0\" class=\"col_heading level0 col0\" >precision@1</th>\n",
              "      <th id=\"T_841db_level0_col1\" class=\"col_heading level0 col1\" >recall@1</th>\n",
              "      <th id=\"T_841db_level0_col2\" class=\"col_heading level0 col2\" >precision@5</th>\n",
              "      <th id=\"T_841db_level0_col3\" class=\"col_heading level0 col3\" >recall@5</th>\n",
              "      <th id=\"T_841db_level0_col4\" class=\"col_heading level0 col4\" >precision@10</th>\n",
              "      <th id=\"T_841db_level0_col5\" class=\"col_heading level0 col5\" >recall@10</th>\n",
              "      <th id=\"T_841db_level0_col6\" class=\"col_heading level0 col6\" >MAP@1</th>\n",
              "      <th id=\"T_841db_level0_col7\" class=\"col_heading level0 col7\" >MAP@5</th>\n",
              "      <th id=\"T_841db_level0_col8\" class=\"col_heading level0 col8\" >MAP@10</th>\n",
              "      <th id=\"T_841db_level0_col9\" class=\"col_heading level0 col9\" >novelty@1</th>\n",
              "      <th id=\"T_841db_level0_col10\" class=\"col_heading level0 col10\" >novelty@5</th>\n",
              "      <th id=\"T_841db_level0_col11\" class=\"col_heading level0 col11\" >novelty@10</th>\n",
              "      <th id=\"T_841db_level0_col12\" class=\"col_heading level0 col12\" >serendipity@1</th>\n",
              "      <th id=\"T_841db_level0_col13\" class=\"col_heading level0 col13\" >serendipity@5</th>\n",
              "      <th id=\"T_841db_level0_col14\" class=\"col_heading level0 col14\" >serendipity@10</th>\n",
              "    </tr>\n",
              "    <tr>\n",
              "      <th class=\"blank level1\" >&nbsp;</th>\n",
              "      <th id=\"T_841db_level1_col0\" class=\"col_heading level1 col0\" >mean</th>\n",
              "      <th id=\"T_841db_level1_col1\" class=\"col_heading level1 col1\" >mean</th>\n",
              "      <th id=\"T_841db_level1_col2\" class=\"col_heading level1 col2\" >mean</th>\n",
              "      <th id=\"T_841db_level1_col3\" class=\"col_heading level1 col3\" >mean</th>\n",
              "      <th id=\"T_841db_level1_col4\" class=\"col_heading level1 col4\" >mean</th>\n",
              "      <th id=\"T_841db_level1_col5\" class=\"col_heading level1 col5\" >mean</th>\n",
              "      <th id=\"T_841db_level1_col6\" class=\"col_heading level1 col6\" >mean</th>\n",
              "      <th id=\"T_841db_level1_col7\" class=\"col_heading level1 col7\" >mean</th>\n",
              "      <th id=\"T_841db_level1_col8\" class=\"col_heading level1 col8\" >mean</th>\n",
              "      <th id=\"T_841db_level1_col9\" class=\"col_heading level1 col9\" >mean</th>\n",
              "      <th id=\"T_841db_level1_col10\" class=\"col_heading level1 col10\" >mean</th>\n",
              "      <th id=\"T_841db_level1_col11\" class=\"col_heading level1 col11\" >mean</th>\n",
              "      <th id=\"T_841db_level1_col12\" class=\"col_heading level1 col12\" >mean</th>\n",
              "      <th id=\"T_841db_level1_col13\" class=\"col_heading level1 col13\" >mean</th>\n",
              "      <th id=\"T_841db_level1_col14\" class=\"col_heading level1 col14\" >mean</th>\n",
              "    </tr>\n",
              "    <tr>\n",
              "      <th class=\"index_name level0\" >model</th>\n",
              "      <th class=\"blank col0\" >&nbsp;</th>\n",
              "      <th class=\"blank col1\" >&nbsp;</th>\n",
              "      <th class=\"blank col2\" >&nbsp;</th>\n",
              "      <th class=\"blank col3\" >&nbsp;</th>\n",
              "      <th class=\"blank col4\" >&nbsp;</th>\n",
              "      <th class=\"blank col5\" >&nbsp;</th>\n",
              "      <th class=\"blank col6\" >&nbsp;</th>\n",
              "      <th class=\"blank col7\" >&nbsp;</th>\n",
              "      <th class=\"blank col8\" >&nbsp;</th>\n",
              "      <th class=\"blank col9\" >&nbsp;</th>\n",
              "      <th class=\"blank col10\" >&nbsp;</th>\n",
              "      <th class=\"blank col11\" >&nbsp;</th>\n",
              "      <th class=\"blank col12\" >&nbsp;</th>\n",
              "      <th class=\"blank col13\" >&nbsp;</th>\n",
              "      <th class=\"blank col14\" >&nbsp;</th>\n",
              "    </tr>\n",
              "  </thead>\n",
              "  <tbody>\n",
              "    <tr>\n",
              "      <th id=\"T_841db_level0_row0\" class=\"row_heading level0 row0\" >ALS</th>\n",
              "      <td id=\"T_841db_row0_col0\" class=\"data row0 col0\" >0.110640</td>\n",
              "      <td id=\"T_841db_row0_col1\" class=\"data row0 col1\" >0.059418</td>\n",
              "      <td id=\"T_841db_row0_col2\" class=\"data row0 col2\" >0.065549</td>\n",
              "      <td id=\"T_841db_row0_col3\" class=\"data row0 col3\" >0.164060</td>\n",
              "      <td id=\"T_841db_row0_col4\" class=\"data row0 col4\" >0.045571</td>\n",
              "      <td id=\"T_841db_row0_col5\" class=\"data row0 col5\" >0.220702</td>\n",
              "      <td id=\"T_841db_row0_col6\" class=\"data row0 col6\" >0.059418</td>\n",
              "      <td id=\"T_841db_row0_col7\" class=\"data row0 col7\" >0.100080</td>\n",
              "      <td id=\"T_841db_row0_col8\" class=\"data row0 col8\" >0.109324</td>\n",
              "      <td id=\"T_841db_row0_col9\" class=\"data row0 col9\" >3.736479</td>\n",
              "      <td id=\"T_841db_row0_col10\" class=\"data row0 col10\" >4.548895</td>\n",
              "      <td id=\"T_841db_row0_col11\" class=\"data row0 col11\" >5.331623</td>\n",
              "      <td id=\"T_841db_row0_col12\" class=\"data row0 col12\" >0.000045</td>\n",
              "      <td id=\"T_841db_row0_col13\" class=\"data row0 col13\" >0.000035</td>\n",
              "      <td id=\"T_841db_row0_col14\" class=\"data row0 col14\" >0.000037</td>\n",
              "    </tr>\n",
              "    <tr>\n",
              "      <th id=\"T_841db_level0_row1\" class=\"row_heading level0 row1\" >LightFM</th>\n",
              "      <td id=\"T_841db_row1_col0\" class=\"data row1 col0\" >0.089457</td>\n",
              "      <td id=\"T_841db_row1_col1\" class=\"data row1 col1\" >0.043870</td>\n",
              "      <td id=\"T_841db_row1_col2\" class=\"data row1 col2\" >0.068983</td>\n",
              "      <td id=\"T_841db_row1_col3\" class=\"data row1 col3\" >0.168781</td>\n",
              "      <td id=\"T_841db_row1_col4\" class=\"data row1 col4\" >0.049982</td>\n",
              "      <td id=\"T_841db_row1_col5\" class=\"data row1 col5\" >0.245390</td>\n",
              "      <td id=\"T_841db_row1_col6\" class=\"data row1 col6\" >0.043870</td>\n",
              "      <td id=\"T_841db_row1_col7\" class=\"data row1 col7\" >0.090271</td>\n",
              "      <td id=\"T_841db_row1_col8\" class=\"data row1 col8\" >0.103854</td>\n",
              "      <td id=\"T_841db_row1_col9\" class=\"data row1 col9\" >3.015844</td>\n",
              "      <td id=\"T_841db_row1_col10\" class=\"data row1 col10\" >4.033761</td>\n",
              "      <td id=\"T_841db_row1_col11\" class=\"data row1 col11\" >4.943282</td>\n",
              "      <td id=\"T_841db_row1_col12\" class=\"data row1 col12\" >0.000006</td>\n",
              "      <td id=\"T_841db_row1_col13\" class=\"data row1 col13\" >0.000009</td>\n",
              "      <td id=\"T_841db_row1_col14\" class=\"data row1 col14\" >0.000024</td>\n",
              "    </tr>\n",
              "  </tbody>\n",
              "</table>\n"
            ],
            "text/plain": [
              "<pandas.io.formats.style.Styler at 0x7fe712ccdf90>"
            ]
          },
          "execution_count": 27,
          "metadata": {},
          "output_type": "execute_result"
        }
      ],
      "source": [
        "# усредняем метрики по фолдам\n",
        "pivot_results = (\n",
        "    pd.DataFrame.from_dict(results[\"metrics\"]).groupby([\"model\"], sort=False).agg([\"mean\"]).drop(\"i_split\", axis=1)\n",
        ")\n",
        "mean_metric_subset = [(metric, agg) for metric, agg in pivot_results.columns if agg == 'mean']\n",
        "(\n",
        "    pivot_results.style\n",
        "    .highlight_min(subset=mean_metric_subset, color='lightcoral', axis=0)\n",
        "    .highlight_max(subset=mean_metric_subset, color='lightgreen', axis=0)\n",
        ")"
      ]
    },
    {
      "cell_type": "markdown",
      "metadata": {
        "id": "L48LSiWsld7j"
      },
      "source": [
        "По большинству метрик лучшие результаты показала **модель ALS со следующими параметрами: {'n_factors': 32, 'regularization': 0.01}**"
      ]
    },
    {
      "cell_type": "markdown",
      "metadata": {
        "id": "iHz0KV9zuj_E"
      },
      "source": [
        "## Обучение модели ALS на всем датасете"
      ]
    },
    {
      "cell_type": "markdown",
      "metadata": {
        "id": "xtr1tOHXuqIQ"
      },
      "source": [
        "В экспериментах использовалась GPU версия модели ALS из implicit (работа с ноутбуком велась в google colab), однако использовать GPU в сервисе возможности нет. Поскольку CPU верcия обучается слишком долго, в сервисе все же будем использовать LightFM."
      ]
    },
    {
      "cell_type": "code",
      "execution_count": null,
      "metadata": {
        "id": "kXhWEk_2xvU-"
      },
      "outputs": [],
      "source": [
        "MODELS_PATH = \"/content/drive/MyDrive/recsys_course/models\"\n",
        "RECOS_PATH = \"/content/drive/MyDrive/recsys_course/recommendations\""
      ]
    },
    {
      "cell_type": "code",
      "execution_count": null,
      "metadata": {
        "id": "ZY_b16qiv9pm"
      },
      "outputs": [],
      "source": [
        "# подготовка признаков\n",
        "user_features = get_users_features(users, interactions, [\"sex\", \"age\", \"income\"])\n",
        "item_features = get_items_features(items, interactions)"
      ]
    },
    {
      "cell_type": "code",
      "execution_count": null,
      "metadata": {
        "colab": {
          "base_uri": "https://localhost:8080/",
          "height": 391
        },
        "id": "tsmWPMoGxc9x",
        "outputId": "dc096fa1-2bcd-4940-8bc3-d9d6d2aebb4b"
      },
      "outputs": [
        {
          "data": {
            "text/html": [
              "\n",
              "  <div id=\"df-7735dbc4-01ab-41d5-ae64-47d9840d1870\" class=\"colab-df-container\">\n",
              "    <div>\n",
              "<style scoped>\n",
              "    .dataframe tbody tr th:only-of-type {\n",
              "        vertical-align: middle;\n",
              "    }\n",
              "\n",
              "    .dataframe tbody tr th {\n",
              "        vertical-align: top;\n",
              "    }\n",
              "\n",
              "    .dataframe thead th {\n",
              "        text-align: right;\n",
              "    }\n",
              "</style>\n",
              "<table border=\"1\" class=\"dataframe\">\n",
              "  <thead>\n",
              "    <tr style=\"text-align: right;\">\n",
              "      <th></th>\n",
              "      <th>id</th>\n",
              "      <th>value</th>\n",
              "      <th>feature</th>\n",
              "    </tr>\n",
              "  </thead>\n",
              "  <tbody>\n",
              "    <tr>\n",
              "      <th>0</th>\n",
              "      <td>973171</td>\n",
              "      <td>М</td>\n",
              "      <td>sex</td>\n",
              "    </tr>\n",
              "    <tr>\n",
              "      <th>1</th>\n",
              "      <td>962099</td>\n",
              "      <td>М</td>\n",
              "      <td>sex</td>\n",
              "    </tr>\n",
              "    <tr>\n",
              "      <th>3</th>\n",
              "      <td>721985</td>\n",
              "      <td>Ж</td>\n",
              "      <td>sex</td>\n",
              "    </tr>\n",
              "    <tr>\n",
              "      <th>4</th>\n",
              "      <td>704055</td>\n",
              "      <td>Ж</td>\n",
              "      <td>sex</td>\n",
              "    </tr>\n",
              "    <tr>\n",
              "      <th>5</th>\n",
              "      <td>1037719</td>\n",
              "      <td>М</td>\n",
              "      <td>sex</td>\n",
              "    </tr>\n",
              "  </tbody>\n",
              "</table>\n",
              "</div>\n",
              "    <div class=\"colab-df-buttons\">\n",
              "\n",
              "  <div class=\"colab-df-container\">\n",
              "    <button class=\"colab-df-convert\" onclick=\"convertToInteractive('df-7735dbc4-01ab-41d5-ae64-47d9840d1870')\"\n",
              "            title=\"Convert this dataframe to an interactive table.\"\n",
              "            style=\"display:none;\">\n",
              "\n",
              "  <svg xmlns=\"http://www.w3.org/2000/svg\" height=\"24px\" viewBox=\"0 -960 960 960\">\n",
              "    <path d=\"M120-120v-720h720v720H120Zm60-500h600v-160H180v160Zm220 220h160v-160H400v160Zm0 220h160v-160H400v160ZM180-400h160v-160H180v160Zm440 0h160v-160H620v160ZM180-180h160v-160H180v160Zm440 0h160v-160H620v160Z\"/>\n",
              "  </svg>\n",
              "    </button>\n",
              "\n",
              "  <style>\n",
              "    .colab-df-container {\n",
              "      display:flex;\n",
              "      gap: 12px;\n",
              "    }\n",
              "\n",
              "    .colab-df-convert {\n",
              "      background-color: #E8F0FE;\n",
              "      border: none;\n",
              "      border-radius: 50%;\n",
              "      cursor: pointer;\n",
              "      display: none;\n",
              "      fill: #1967D2;\n",
              "      height: 32px;\n",
              "      padding: 0 0 0 0;\n",
              "      width: 32px;\n",
              "    }\n",
              "\n",
              "    .colab-df-convert:hover {\n",
              "      background-color: #E2EBFA;\n",
              "      box-shadow: 0px 1px 2px rgba(60, 64, 67, 0.3), 0px 1px 3px 1px rgba(60, 64, 67, 0.15);\n",
              "      fill: #174EA6;\n",
              "    }\n",
              "\n",
              "    .colab-df-buttons div {\n",
              "      margin-bottom: 4px;\n",
              "    }\n",
              "\n",
              "    [theme=dark] .colab-df-convert {\n",
              "      background-color: #3B4455;\n",
              "      fill: #D2E3FC;\n",
              "    }\n",
              "\n",
              "    [theme=dark] .colab-df-convert:hover {\n",
              "      background-color: #434B5C;\n",
              "      box-shadow: 0px 1px 3px 1px rgba(0, 0, 0, 0.15);\n",
              "      filter: drop-shadow(0px 1px 2px rgba(0, 0, 0, 0.3));\n",
              "      fill: #FFFFFF;\n",
              "    }\n",
              "  </style>\n",
              "\n",
              "    <script>\n",
              "      const buttonEl =\n",
              "        document.querySelector('#df-7735dbc4-01ab-41d5-ae64-47d9840d1870 button.colab-df-convert');\n",
              "      buttonEl.style.display =\n",
              "        google.colab.kernel.accessAllowed ? 'block' : 'none';\n",
              "\n",
              "      async function convertToInteractive(key) {\n",
              "        const element = document.querySelector('#df-7735dbc4-01ab-41d5-ae64-47d9840d1870');\n",
              "        const dataTable =\n",
              "          await google.colab.kernel.invokeFunction('convertToInteractive',\n",
              "                                                    [key], {});\n",
              "        if (!dataTable) return;\n",
              "\n",
              "        const docLinkHtml = 'Like what you see? Visit the ' +\n",
              "          '<a target=\"_blank\" href=https://colab.research.google.com/notebooks/data_table.ipynb>data table notebook</a>'\n",
              "          + ' to learn more about interactive tables.';\n",
              "        element.innerHTML = '';\n",
              "        dataTable['output_type'] = 'display_data';\n",
              "        await google.colab.output.renderOutput(dataTable, element);\n",
              "        const docLink = document.createElement('div');\n",
              "        docLink.innerHTML = docLinkHtml;\n",
              "        element.appendChild(docLink);\n",
              "      }\n",
              "    </script>\n",
              "  </div>\n",
              "\n",
              "\n",
              "<div id=\"df-09417cf8-1998-4fee-898a-1525427ee191\">\n",
              "  <button class=\"colab-df-quickchart\" onclick=\"quickchart('df-09417cf8-1998-4fee-898a-1525427ee191')\"\n",
              "            title=\"Suggest charts\"\n",
              "            style=\"display:none;\">\n",
              "\n",
              "<svg xmlns=\"http://www.w3.org/2000/svg\" height=\"24px\"viewBox=\"0 0 24 24\"\n",
              "     width=\"24px\">\n",
              "    <g>\n",
              "        <path d=\"M19 3H5c-1.1 0-2 .9-2 2v14c0 1.1.9 2 2 2h14c1.1 0 2-.9 2-2V5c0-1.1-.9-2-2-2zM9 17H7v-7h2v7zm4 0h-2V7h2v10zm4 0h-2v-4h2v4z\"/>\n",
              "    </g>\n",
              "</svg>\n",
              "  </button>\n",
              "\n",
              "<style>\n",
              "  .colab-df-quickchart {\n",
              "      --bg-color: #E8F0FE;\n",
              "      --fill-color: #1967D2;\n",
              "      --hover-bg-color: #E2EBFA;\n",
              "      --hover-fill-color: #174EA6;\n",
              "      --disabled-fill-color: #AAA;\n",
              "      --disabled-bg-color: #DDD;\n",
              "  }\n",
              "\n",
              "  [theme=dark] .colab-df-quickchart {\n",
              "      --bg-color: #3B4455;\n",
              "      --fill-color: #D2E3FC;\n",
              "      --hover-bg-color: #434B5C;\n",
              "      --hover-fill-color: #FFFFFF;\n",
              "      --disabled-bg-color: #3B4455;\n",
              "      --disabled-fill-color: #666;\n",
              "  }\n",
              "\n",
              "  .colab-df-quickchart {\n",
              "    background-color: var(--bg-color);\n",
              "    border: none;\n",
              "    border-radius: 50%;\n",
              "    cursor: pointer;\n",
              "    display: none;\n",
              "    fill: var(--fill-color);\n",
              "    height: 32px;\n",
              "    padding: 0;\n",
              "    width: 32px;\n",
              "  }\n",
              "\n",
              "  .colab-df-quickchart:hover {\n",
              "    background-color: var(--hover-bg-color);\n",
              "    box-shadow: 0 1px 2px rgba(60, 64, 67, 0.3), 0 1px 3px 1px rgba(60, 64, 67, 0.15);\n",
              "    fill: var(--button-hover-fill-color);\n",
              "  }\n",
              "\n",
              "  .colab-df-quickchart-complete:disabled,\n",
              "  .colab-df-quickchart-complete:disabled:hover {\n",
              "    background-color: var(--disabled-bg-color);\n",
              "    fill: var(--disabled-fill-color);\n",
              "    box-shadow: none;\n",
              "  }\n",
              "\n",
              "  .colab-df-spinner {\n",
              "    border: 2px solid var(--fill-color);\n",
              "    border-color: transparent;\n",
              "    border-bottom-color: var(--fill-color);\n",
              "    animation:\n",
              "      spin 1s steps(1) infinite;\n",
              "  }\n",
              "\n",
              "  @keyframes spin {\n",
              "    0% {\n",
              "      border-color: transparent;\n",
              "      border-bottom-color: var(--fill-color);\n",
              "      border-left-color: var(--fill-color);\n",
              "    }\n",
              "    20% {\n",
              "      border-color: transparent;\n",
              "      border-left-color: var(--fill-color);\n",
              "      border-top-color: var(--fill-color);\n",
              "    }\n",
              "    30% {\n",
              "      border-color: transparent;\n",
              "      border-left-color: var(--fill-color);\n",
              "      border-top-color: var(--fill-color);\n",
              "      border-right-color: var(--fill-color);\n",
              "    }\n",
              "    40% {\n",
              "      border-color: transparent;\n",
              "      border-right-color: var(--fill-color);\n",
              "      border-top-color: var(--fill-color);\n",
              "    }\n",
              "    60% {\n",
              "      border-color: transparent;\n",
              "      border-right-color: var(--fill-color);\n",
              "    }\n",
              "    80% {\n",
              "      border-color: transparent;\n",
              "      border-right-color: var(--fill-color);\n",
              "      border-bottom-color: var(--fill-color);\n",
              "    }\n",
              "    90% {\n",
              "      border-color: transparent;\n",
              "      border-bottom-color: var(--fill-color);\n",
              "    }\n",
              "  }\n",
              "</style>\n",
              "\n",
              "  <script>\n",
              "    async function quickchart(key) {\n",
              "      const quickchartButtonEl =\n",
              "        document.querySelector('#' + key + ' button');\n",
              "      quickchartButtonEl.disabled = true;  // To prevent multiple clicks.\n",
              "      quickchartButtonEl.classList.add('colab-df-spinner');\n",
              "      try {\n",
              "        const charts = await google.colab.kernel.invokeFunction(\n",
              "            'suggestCharts', [key], {});\n",
              "      } catch (error) {\n",
              "        console.error('Error during call to suggestCharts:', error);\n",
              "      }\n",
              "      quickchartButtonEl.classList.remove('colab-df-spinner');\n",
              "      quickchartButtonEl.classList.add('colab-df-quickchart-complete');\n",
              "    }\n",
              "    (() => {\n",
              "      let quickchartButtonEl =\n",
              "        document.querySelector('#df-09417cf8-1998-4fee-898a-1525427ee191 button');\n",
              "      quickchartButtonEl.style.display =\n",
              "        google.colab.kernel.accessAllowed ? 'block' : 'none';\n",
              "    })();\n",
              "  </script>\n",
              "</div>\n",
              "    </div>\n",
              "  </div>\n"
            ],
            "text/plain": [
              "        id value feature\n",
              "0   973171     М     sex\n",
              "1   962099     М     sex\n",
              "3   721985     Ж     sex\n",
              "4   704055     Ж     sex\n",
              "5  1037719     М     sex"
            ]
          },
          "metadata": {},
          "output_type": "display_data"
        },
        {
          "data": {
            "text/html": [
              "\n",
              "  <div id=\"df-f8ad44fe-dcd2-48ae-8412-26b01a3c2542\" class=\"colab-df-container\">\n",
              "    <div>\n",
              "<style scoped>\n",
              "    .dataframe tbody tr th:only-of-type {\n",
              "        vertical-align: middle;\n",
              "    }\n",
              "\n",
              "    .dataframe tbody tr th {\n",
              "        vertical-align: top;\n",
              "    }\n",
              "\n",
              "    .dataframe thead th {\n",
              "        text-align: right;\n",
              "    }\n",
              "</style>\n",
              "<table border=\"1\" class=\"dataframe\">\n",
              "  <thead>\n",
              "    <tr style=\"text-align: right;\">\n",
              "      <th></th>\n",
              "      <th>id</th>\n",
              "      <th>value</th>\n",
              "      <th>feature</th>\n",
              "    </tr>\n",
              "  </thead>\n",
              "  <tbody>\n",
              "    <tr>\n",
              "      <th>0</th>\n",
              "      <td>10711</td>\n",
              "      <td>драмы</td>\n",
              "      <td>genre</td>\n",
              "    </tr>\n",
              "    <tr>\n",
              "      <th>0</th>\n",
              "      <td>10711</td>\n",
              "      <td>зарубежные</td>\n",
              "      <td>genre</td>\n",
              "    </tr>\n",
              "    <tr>\n",
              "      <th>0</th>\n",
              "      <td>10711</td>\n",
              "      <td>детективы</td>\n",
              "      <td>genre</td>\n",
              "    </tr>\n",
              "    <tr>\n",
              "      <th>0</th>\n",
              "      <td>10711</td>\n",
              "      <td>мелодрамы</td>\n",
              "      <td>genre</td>\n",
              "    </tr>\n",
              "    <tr>\n",
              "      <th>1</th>\n",
              "      <td>2508</td>\n",
              "      <td>зарубежные</td>\n",
              "      <td>genre</td>\n",
              "    </tr>\n",
              "  </tbody>\n",
              "</table>\n",
              "</div>\n",
              "    <div class=\"colab-df-buttons\">\n",
              "\n",
              "  <div class=\"colab-df-container\">\n",
              "    <button class=\"colab-df-convert\" onclick=\"convertToInteractive('df-f8ad44fe-dcd2-48ae-8412-26b01a3c2542')\"\n",
              "            title=\"Convert this dataframe to an interactive table.\"\n",
              "            style=\"display:none;\">\n",
              "\n",
              "  <svg xmlns=\"http://www.w3.org/2000/svg\" height=\"24px\" viewBox=\"0 -960 960 960\">\n",
              "    <path d=\"M120-120v-720h720v720H120Zm60-500h600v-160H180v160Zm220 220h160v-160H400v160Zm0 220h160v-160H400v160ZM180-400h160v-160H180v160Zm440 0h160v-160H620v160ZM180-180h160v-160H180v160Zm440 0h160v-160H620v160Z\"/>\n",
              "  </svg>\n",
              "    </button>\n",
              "\n",
              "  <style>\n",
              "    .colab-df-container {\n",
              "      display:flex;\n",
              "      gap: 12px;\n",
              "    }\n",
              "\n",
              "    .colab-df-convert {\n",
              "      background-color: #E8F0FE;\n",
              "      border: none;\n",
              "      border-radius: 50%;\n",
              "      cursor: pointer;\n",
              "      display: none;\n",
              "      fill: #1967D2;\n",
              "      height: 32px;\n",
              "      padding: 0 0 0 0;\n",
              "      width: 32px;\n",
              "    }\n",
              "\n",
              "    .colab-df-convert:hover {\n",
              "      background-color: #E2EBFA;\n",
              "      box-shadow: 0px 1px 2px rgba(60, 64, 67, 0.3), 0px 1px 3px 1px rgba(60, 64, 67, 0.15);\n",
              "      fill: #174EA6;\n",
              "    }\n",
              "\n",
              "    .colab-df-buttons div {\n",
              "      margin-bottom: 4px;\n",
              "    }\n",
              "\n",
              "    [theme=dark] .colab-df-convert {\n",
              "      background-color: #3B4455;\n",
              "      fill: #D2E3FC;\n",
              "    }\n",
              "\n",
              "    [theme=dark] .colab-df-convert:hover {\n",
              "      background-color: #434B5C;\n",
              "      box-shadow: 0px 1px 3px 1px rgba(0, 0, 0, 0.15);\n",
              "      filter: drop-shadow(0px 1px 2px rgba(0, 0, 0, 0.3));\n",
              "      fill: #FFFFFF;\n",
              "    }\n",
              "  </style>\n",
              "\n",
              "    <script>\n",
              "      const buttonEl =\n",
              "        document.querySelector('#df-f8ad44fe-dcd2-48ae-8412-26b01a3c2542 button.colab-df-convert');\n",
              "      buttonEl.style.display =\n",
              "        google.colab.kernel.accessAllowed ? 'block' : 'none';\n",
              "\n",
              "      async function convertToInteractive(key) {\n",
              "        const element = document.querySelector('#df-f8ad44fe-dcd2-48ae-8412-26b01a3c2542');\n",
              "        const dataTable =\n",
              "          await google.colab.kernel.invokeFunction('convertToInteractive',\n",
              "                                                    [key], {});\n",
              "        if (!dataTable) return;\n",
              "\n",
              "        const docLinkHtml = 'Like what you see? Visit the ' +\n",
              "          '<a target=\"_blank\" href=https://colab.research.google.com/notebooks/data_table.ipynb>data table notebook</a>'\n",
              "          + ' to learn more about interactive tables.';\n",
              "        element.innerHTML = '';\n",
              "        dataTable['output_type'] = 'display_data';\n",
              "        await google.colab.output.renderOutput(dataTable, element);\n",
              "        const docLink = document.createElement('div');\n",
              "        docLink.innerHTML = docLinkHtml;\n",
              "        element.appendChild(docLink);\n",
              "      }\n",
              "    </script>\n",
              "  </div>\n",
              "\n",
              "\n",
              "<div id=\"df-8cef386b-cb7b-4f47-8a96-319cb0efe5a8\">\n",
              "  <button class=\"colab-df-quickchart\" onclick=\"quickchart('df-8cef386b-cb7b-4f47-8a96-319cb0efe5a8')\"\n",
              "            title=\"Suggest charts\"\n",
              "            style=\"display:none;\">\n",
              "\n",
              "<svg xmlns=\"http://www.w3.org/2000/svg\" height=\"24px\"viewBox=\"0 0 24 24\"\n",
              "     width=\"24px\">\n",
              "    <g>\n",
              "        <path d=\"M19 3H5c-1.1 0-2 .9-2 2v14c0 1.1.9 2 2 2h14c1.1 0 2-.9 2-2V5c0-1.1-.9-2-2-2zM9 17H7v-7h2v7zm4 0h-2V7h2v10zm4 0h-2v-4h2v4z\"/>\n",
              "    </g>\n",
              "</svg>\n",
              "  </button>\n",
              "\n",
              "<style>\n",
              "  .colab-df-quickchart {\n",
              "      --bg-color: #E8F0FE;\n",
              "      --fill-color: #1967D2;\n",
              "      --hover-bg-color: #E2EBFA;\n",
              "      --hover-fill-color: #174EA6;\n",
              "      --disabled-fill-color: #AAA;\n",
              "      --disabled-bg-color: #DDD;\n",
              "  }\n",
              "\n",
              "  [theme=dark] .colab-df-quickchart {\n",
              "      --bg-color: #3B4455;\n",
              "      --fill-color: #D2E3FC;\n",
              "      --hover-bg-color: #434B5C;\n",
              "      --hover-fill-color: #FFFFFF;\n",
              "      --disabled-bg-color: #3B4455;\n",
              "      --disabled-fill-color: #666;\n",
              "  }\n",
              "\n",
              "  .colab-df-quickchart {\n",
              "    background-color: var(--bg-color);\n",
              "    border: none;\n",
              "    border-radius: 50%;\n",
              "    cursor: pointer;\n",
              "    display: none;\n",
              "    fill: var(--fill-color);\n",
              "    height: 32px;\n",
              "    padding: 0;\n",
              "    width: 32px;\n",
              "  }\n",
              "\n",
              "  .colab-df-quickchart:hover {\n",
              "    background-color: var(--hover-bg-color);\n",
              "    box-shadow: 0 1px 2px rgba(60, 64, 67, 0.3), 0 1px 3px 1px rgba(60, 64, 67, 0.15);\n",
              "    fill: var(--button-hover-fill-color);\n",
              "  }\n",
              "\n",
              "  .colab-df-quickchart-complete:disabled,\n",
              "  .colab-df-quickchart-complete:disabled:hover {\n",
              "    background-color: var(--disabled-bg-color);\n",
              "    fill: var(--disabled-fill-color);\n",
              "    box-shadow: none;\n",
              "  }\n",
              "\n",
              "  .colab-df-spinner {\n",
              "    border: 2px solid var(--fill-color);\n",
              "    border-color: transparent;\n",
              "    border-bottom-color: var(--fill-color);\n",
              "    animation:\n",
              "      spin 1s steps(1) infinite;\n",
              "  }\n",
              "\n",
              "  @keyframes spin {\n",
              "    0% {\n",
              "      border-color: transparent;\n",
              "      border-bottom-color: var(--fill-color);\n",
              "      border-left-color: var(--fill-color);\n",
              "    }\n",
              "    20% {\n",
              "      border-color: transparent;\n",
              "      border-left-color: var(--fill-color);\n",
              "      border-top-color: var(--fill-color);\n",
              "    }\n",
              "    30% {\n",
              "      border-color: transparent;\n",
              "      border-left-color: var(--fill-color);\n",
              "      border-top-color: var(--fill-color);\n",
              "      border-right-color: var(--fill-color);\n",
              "    }\n",
              "    40% {\n",
              "      border-color: transparent;\n",
              "      border-right-color: var(--fill-color);\n",
              "      border-top-color: var(--fill-color);\n",
              "    }\n",
              "    60% {\n",
              "      border-color: transparent;\n",
              "      border-right-color: var(--fill-color);\n",
              "    }\n",
              "    80% {\n",
              "      border-color: transparent;\n",
              "      border-right-color: var(--fill-color);\n",
              "      border-bottom-color: var(--fill-color);\n",
              "    }\n",
              "    90% {\n",
              "      border-color: transparent;\n",
              "      border-bottom-color: var(--fill-color);\n",
              "    }\n",
              "  }\n",
              "</style>\n",
              "\n",
              "  <script>\n",
              "    async function quickchart(key) {\n",
              "      const quickchartButtonEl =\n",
              "        document.querySelector('#' + key + ' button');\n",
              "      quickchartButtonEl.disabled = true;  // To prevent multiple clicks.\n",
              "      quickchartButtonEl.classList.add('colab-df-spinner');\n",
              "      try {\n",
              "        const charts = await google.colab.kernel.invokeFunction(\n",
              "            'suggestCharts', [key], {});\n",
              "      } catch (error) {\n",
              "        console.error('Error during call to suggestCharts:', error);\n",
              "      }\n",
              "      quickchartButtonEl.classList.remove('colab-df-spinner');\n",
              "      quickchartButtonEl.classList.add('colab-df-quickchart-complete');\n",
              "    }\n",
              "    (() => {\n",
              "      let quickchartButtonEl =\n",
              "        document.querySelector('#df-8cef386b-cb7b-4f47-8a96-319cb0efe5a8 button');\n",
              "      quickchartButtonEl.style.display =\n",
              "        google.colab.kernel.accessAllowed ? 'block' : 'none';\n",
              "    })();\n",
              "  </script>\n",
              "</div>\n",
              "    </div>\n",
              "  </div>\n"
            ],
            "text/plain": [
              "      id       value feature\n",
              "0  10711       драмы   genre\n",
              "0  10711  зарубежные   genre\n",
              "0  10711   детективы   genre\n",
              "0  10711   мелодрамы   genre\n",
              "1   2508  зарубежные   genre"
            ]
          },
          "metadata": {},
          "output_type": "display_data"
        }
      ],
      "source": [
        "display(user_features.head())\n",
        "display(item_features.head())"
      ]
    },
    {
      "cell_type": "code",
      "execution_count": null,
      "metadata": {
        "id": "fc57F70gwI3i"
      },
      "outputs": [],
      "source": [
        "dataset = Dataset.construct(\n",
        "    interactions_df=interactions,\n",
        "    user_features_df=user_features,\n",
        "    cat_user_features=[\"sex\", \"age\", \"income\"],\n",
        "    item_features_df=item_features,\n",
        "    cat_item_features=[\"genre\", \"content_type\", \"country\", \"binned_r_year\"],\n",
        ")"
      ]
    },
    {
      "cell_type": "code",
      "execution_count": null,
      "metadata": {
        "id": "b9tCnpiDv5so"
      },
      "outputs": [],
      "source": [
        "lightfm_model = LightFMWrapperModel(\n",
        "    LightFM(\n",
        "        no_components=64,\n",
        "        loss=\"warp\",\n",
        "        random_state=RANDOM_STATE,\n",
        "        learning_rate=0.013681895729046522,\n",
        "        user_alpha=0.4233951257813444,\n",
        "        item_alpha=0.5801959801737767,\n",
        "    ),\n",
        "    epochs=N_EPOCHS,\n",
        "    num_threads=2,\n",
        ")"
      ]
    },
    {
      "cell_type": "code",
      "execution_count": null,
      "metadata": {
        "colab": {
          "base_uri": "https://localhost:8080/"
        },
        "id": "9dIT_saUxCU-",
        "outputId": "702672ae-cedf-4a85-fd04-2e86a7dcd571"
      },
      "outputs": [
        {
          "name": "stdout",
          "output_type": "stream",
          "text": [
            "CPU times: user 3min 10s, sys: 746 ms, total: 3min 10s\n",
            "Wall time: 2min 2s\n"
          ]
        },
        {
          "data": {
            "text/plain": [
              "<rectools.models.lightfm.LightFMWrapperModel at 0x798c893f2ec0>"
            ]
          },
          "execution_count": 14,
          "metadata": {},
          "output_type": "execute_result"
        }
      ],
      "source": [
        "%%time\n",
        "\n",
        "lightfm_model.fit(dataset)"
      ]
    },
    {
      "cell_type": "code",
      "execution_count": null,
      "metadata": {
        "id": "ITyage8mxt4u"
      },
      "outputs": [],
      "source": [
        "pickle.dump(lightfm_model, open(f\"{MODELS_PATH}/lightfm_warp_64.pkl\", \"wb\"))"
      ]
    },
    {
      "cell_type": "code",
      "execution_count": null,
      "metadata": {
        "colab": {
          "base_uri": "https://localhost:8080/",
          "height": 359
        },
        "id": "5LI_pjNQzyBD",
        "outputId": "44bb8a63-366f-4a91-ff6d-e4368865bb12"
      },
      "outputs": [
        {
          "data": {
            "text/html": [
              "\n",
              "  <div id=\"df-9cd1eb6b-7fa5-4da1-976c-5ba15ee27175\" class=\"colab-df-container\">\n",
              "    <div>\n",
              "<style scoped>\n",
              "    .dataframe tbody tr th:only-of-type {\n",
              "        vertical-align: middle;\n",
              "    }\n",
              "\n",
              "    .dataframe tbody tr th {\n",
              "        vertical-align: top;\n",
              "    }\n",
              "\n",
              "    .dataframe thead th {\n",
              "        text-align: right;\n",
              "    }\n",
              "</style>\n",
              "<table border=\"1\" class=\"dataframe\">\n",
              "  <thead>\n",
              "    <tr style=\"text-align: right;\">\n",
              "      <th></th>\n",
              "      <th>user_id</th>\n",
              "      <th>item_id</th>\n",
              "      <th>score</th>\n",
              "      <th>rank</th>\n",
              "    </tr>\n",
              "  </thead>\n",
              "  <tbody>\n",
              "    <tr>\n",
              "      <th>0</th>\n",
              "      <td>864613</td>\n",
              "      <td>10440</td>\n",
              "      <td>-0.001715</td>\n",
              "      <td>1</td>\n",
              "    </tr>\n",
              "    <tr>\n",
              "      <th>1</th>\n",
              "      <td>864613</td>\n",
              "      <td>13865</td>\n",
              "      <td>-0.001718</td>\n",
              "      <td>2</td>\n",
              "    </tr>\n",
              "    <tr>\n",
              "      <th>2</th>\n",
              "      <td>864613</td>\n",
              "      <td>9728</td>\n",
              "      <td>-0.001719</td>\n",
              "      <td>3</td>\n",
              "    </tr>\n",
              "    <tr>\n",
              "      <th>3</th>\n",
              "      <td>864613</td>\n",
              "      <td>3734</td>\n",
              "      <td>-0.001724</td>\n",
              "      <td>4</td>\n",
              "    </tr>\n",
              "    <tr>\n",
              "      <th>4</th>\n",
              "      <td>864613</td>\n",
              "      <td>2657</td>\n",
              "      <td>-0.001729</td>\n",
              "      <td>5</td>\n",
              "    </tr>\n",
              "    <tr>\n",
              "      <th>5</th>\n",
              "      <td>864613</td>\n",
              "      <td>8636</td>\n",
              "      <td>-0.001729</td>\n",
              "      <td>6</td>\n",
              "    </tr>\n",
              "    <tr>\n",
              "      <th>6</th>\n",
              "      <td>864613</td>\n",
              "      <td>7829</td>\n",
              "      <td>-0.001731</td>\n",
              "      <td>7</td>\n",
              "    </tr>\n",
              "    <tr>\n",
              "      <th>7</th>\n",
              "      <td>864613</td>\n",
              "      <td>14431</td>\n",
              "      <td>-0.001731</td>\n",
              "      <td>8</td>\n",
              "    </tr>\n",
              "    <tr>\n",
              "      <th>8</th>\n",
              "      <td>864613</td>\n",
              "      <td>9996</td>\n",
              "      <td>-0.001732</td>\n",
              "      <td>9</td>\n",
              "    </tr>\n",
              "    <tr>\n",
              "      <th>9</th>\n",
              "      <td>864613</td>\n",
              "      <td>11237</td>\n",
              "      <td>-0.001732</td>\n",
              "      <td>10</td>\n",
              "    </tr>\n",
              "  </tbody>\n",
              "</table>\n",
              "</div>\n",
              "    <div class=\"colab-df-buttons\">\n",
              "\n",
              "  <div class=\"colab-df-container\">\n",
              "    <button class=\"colab-df-convert\" onclick=\"convertToInteractive('df-9cd1eb6b-7fa5-4da1-976c-5ba15ee27175')\"\n",
              "            title=\"Convert this dataframe to an interactive table.\"\n",
              "            style=\"display:none;\">\n",
              "\n",
              "  <svg xmlns=\"http://www.w3.org/2000/svg\" height=\"24px\" viewBox=\"0 -960 960 960\">\n",
              "    <path d=\"M120-120v-720h720v720H120Zm60-500h600v-160H180v160Zm220 220h160v-160H400v160Zm0 220h160v-160H400v160ZM180-400h160v-160H180v160Zm440 0h160v-160H620v160ZM180-180h160v-160H180v160Zm440 0h160v-160H620v160Z\"/>\n",
              "  </svg>\n",
              "    </button>\n",
              "\n",
              "  <style>\n",
              "    .colab-df-container {\n",
              "      display:flex;\n",
              "      gap: 12px;\n",
              "    }\n",
              "\n",
              "    .colab-df-convert {\n",
              "      background-color: #E8F0FE;\n",
              "      border: none;\n",
              "      border-radius: 50%;\n",
              "      cursor: pointer;\n",
              "      display: none;\n",
              "      fill: #1967D2;\n",
              "      height: 32px;\n",
              "      padding: 0 0 0 0;\n",
              "      width: 32px;\n",
              "    }\n",
              "\n",
              "    .colab-df-convert:hover {\n",
              "      background-color: #E2EBFA;\n",
              "      box-shadow: 0px 1px 2px rgba(60, 64, 67, 0.3), 0px 1px 3px 1px rgba(60, 64, 67, 0.15);\n",
              "      fill: #174EA6;\n",
              "    }\n",
              "\n",
              "    .colab-df-buttons div {\n",
              "      margin-bottom: 4px;\n",
              "    }\n",
              "\n",
              "    [theme=dark] .colab-df-convert {\n",
              "      background-color: #3B4455;\n",
              "      fill: #D2E3FC;\n",
              "    }\n",
              "\n",
              "    [theme=dark] .colab-df-convert:hover {\n",
              "      background-color: #434B5C;\n",
              "      box-shadow: 0px 1px 3px 1px rgba(0, 0, 0, 0.15);\n",
              "      filter: drop-shadow(0px 1px 2px rgba(0, 0, 0, 0.3));\n",
              "      fill: #FFFFFF;\n",
              "    }\n",
              "  </style>\n",
              "\n",
              "    <script>\n",
              "      const buttonEl =\n",
              "        document.querySelector('#df-9cd1eb6b-7fa5-4da1-976c-5ba15ee27175 button.colab-df-convert');\n",
              "      buttonEl.style.display =\n",
              "        google.colab.kernel.accessAllowed ? 'block' : 'none';\n",
              "\n",
              "      async function convertToInteractive(key) {\n",
              "        const element = document.querySelector('#df-9cd1eb6b-7fa5-4da1-976c-5ba15ee27175');\n",
              "        const dataTable =\n",
              "          await google.colab.kernel.invokeFunction('convertToInteractive',\n",
              "                                                    [key], {});\n",
              "        if (!dataTable) return;\n",
              "\n",
              "        const docLinkHtml = 'Like what you see? Visit the ' +\n",
              "          '<a target=\"_blank\" href=https://colab.research.google.com/notebooks/data_table.ipynb>data table notebook</a>'\n",
              "          + ' to learn more about interactive tables.';\n",
              "        element.innerHTML = '';\n",
              "        dataTable['output_type'] = 'display_data';\n",
              "        await google.colab.output.renderOutput(dataTable, element);\n",
              "        const docLink = document.createElement('div');\n",
              "        docLink.innerHTML = docLinkHtml;\n",
              "        element.appendChild(docLink);\n",
              "      }\n",
              "    </script>\n",
              "  </div>\n",
              "\n",
              "\n",
              "<div id=\"df-56ac1870-8c17-4321-a07c-113eb65a057e\">\n",
              "  <button class=\"colab-df-quickchart\" onclick=\"quickchart('df-56ac1870-8c17-4321-a07c-113eb65a057e')\"\n",
              "            title=\"Suggest charts\"\n",
              "            style=\"display:none;\">\n",
              "\n",
              "<svg xmlns=\"http://www.w3.org/2000/svg\" height=\"24px\"viewBox=\"0 0 24 24\"\n",
              "     width=\"24px\">\n",
              "    <g>\n",
              "        <path d=\"M19 3H5c-1.1 0-2 .9-2 2v14c0 1.1.9 2 2 2h14c1.1 0 2-.9 2-2V5c0-1.1-.9-2-2-2zM9 17H7v-7h2v7zm4 0h-2V7h2v10zm4 0h-2v-4h2v4z\"/>\n",
              "    </g>\n",
              "</svg>\n",
              "  </button>\n",
              "\n",
              "<style>\n",
              "  .colab-df-quickchart {\n",
              "      --bg-color: #E8F0FE;\n",
              "      --fill-color: #1967D2;\n",
              "      --hover-bg-color: #E2EBFA;\n",
              "      --hover-fill-color: #174EA6;\n",
              "      --disabled-fill-color: #AAA;\n",
              "      --disabled-bg-color: #DDD;\n",
              "  }\n",
              "\n",
              "  [theme=dark] .colab-df-quickchart {\n",
              "      --bg-color: #3B4455;\n",
              "      --fill-color: #D2E3FC;\n",
              "      --hover-bg-color: #434B5C;\n",
              "      --hover-fill-color: #FFFFFF;\n",
              "      --disabled-bg-color: #3B4455;\n",
              "      --disabled-fill-color: #666;\n",
              "  }\n",
              "\n",
              "  .colab-df-quickchart {\n",
              "    background-color: var(--bg-color);\n",
              "    border: none;\n",
              "    border-radius: 50%;\n",
              "    cursor: pointer;\n",
              "    display: none;\n",
              "    fill: var(--fill-color);\n",
              "    height: 32px;\n",
              "    padding: 0;\n",
              "    width: 32px;\n",
              "  }\n",
              "\n",
              "  .colab-df-quickchart:hover {\n",
              "    background-color: var(--hover-bg-color);\n",
              "    box-shadow: 0 1px 2px rgba(60, 64, 67, 0.3), 0 1px 3px 1px rgba(60, 64, 67, 0.15);\n",
              "    fill: var(--button-hover-fill-color);\n",
              "  }\n",
              "\n",
              "  .colab-df-quickchart-complete:disabled,\n",
              "  .colab-df-quickchart-complete:disabled:hover {\n",
              "    background-color: var(--disabled-bg-color);\n",
              "    fill: var(--disabled-fill-color);\n",
              "    box-shadow: none;\n",
              "  }\n",
              "\n",
              "  .colab-df-spinner {\n",
              "    border: 2px solid var(--fill-color);\n",
              "    border-color: transparent;\n",
              "    border-bottom-color: var(--fill-color);\n",
              "    animation:\n",
              "      spin 1s steps(1) infinite;\n",
              "  }\n",
              "\n",
              "  @keyframes spin {\n",
              "    0% {\n",
              "      border-color: transparent;\n",
              "      border-bottom-color: var(--fill-color);\n",
              "      border-left-color: var(--fill-color);\n",
              "    }\n",
              "    20% {\n",
              "      border-color: transparent;\n",
              "      border-left-color: var(--fill-color);\n",
              "      border-top-color: var(--fill-color);\n",
              "    }\n",
              "    30% {\n",
              "      border-color: transparent;\n",
              "      border-left-color: var(--fill-color);\n",
              "      border-top-color: var(--fill-color);\n",
              "      border-right-color: var(--fill-color);\n",
              "    }\n",
              "    40% {\n",
              "      border-color: transparent;\n",
              "      border-right-color: var(--fill-color);\n",
              "      border-top-color: var(--fill-color);\n",
              "    }\n",
              "    60% {\n",
              "      border-color: transparent;\n",
              "      border-right-color: var(--fill-color);\n",
              "    }\n",
              "    80% {\n",
              "      border-color: transparent;\n",
              "      border-right-color: var(--fill-color);\n",
              "      border-bottom-color: var(--fill-color);\n",
              "    }\n",
              "    90% {\n",
              "      border-color: transparent;\n",
              "      border-bottom-color: var(--fill-color);\n",
              "    }\n",
              "  }\n",
              "</style>\n",
              "\n",
              "  <script>\n",
              "    async function quickchart(key) {\n",
              "      const quickchartButtonEl =\n",
              "        document.querySelector('#' + key + ' button');\n",
              "      quickchartButtonEl.disabled = true;  // To prevent multiple clicks.\n",
              "      quickchartButtonEl.classList.add('colab-df-spinner');\n",
              "      try {\n",
              "        const charts = await google.colab.kernel.invokeFunction(\n",
              "            'suggestCharts', [key], {});\n",
              "      } catch (error) {\n",
              "        console.error('Error during call to suggestCharts:', error);\n",
              "      }\n",
              "      quickchartButtonEl.classList.remove('colab-df-spinner');\n",
              "      quickchartButtonEl.classList.add('colab-df-quickchart-complete');\n",
              "    }\n",
              "    (() => {\n",
              "      let quickchartButtonEl =\n",
              "        document.querySelector('#df-56ac1870-8c17-4321-a07c-113eb65a057e button');\n",
              "      quickchartButtonEl.style.display =\n",
              "        google.colab.kernel.accessAllowed ? 'block' : 'none';\n",
              "    })();\n",
              "  </script>\n",
              "</div>\n",
              "    </div>\n",
              "  </div>\n"
            ],
            "text/plain": [
              "   user_id  item_id     score  rank\n",
              "0   864613    10440 -0.001715     1\n",
              "1   864613    13865 -0.001718     2\n",
              "2   864613     9728 -0.001719     3\n",
              "3   864613     3734 -0.001724     4\n",
              "4   864613     2657 -0.001729     5\n",
              "5   864613     8636 -0.001729     6\n",
              "6   864613     7829 -0.001731     7\n",
              "7   864613    14431 -0.001731     8\n",
              "8   864613     9996 -0.001732     9\n",
              "9   864613    11237 -0.001732    10"
            ]
          },
          "execution_count": 16,
          "metadata": {},
          "output_type": "execute_result"
        }
      ],
      "source": [
        "# проверим, что обученная модель выдает рекомендации\n",
        "pickled_model = pickle.load(open(f\"{MODELS_PATH}/lightfm_warp_64.pkl\", \"rb\"))\n",
        "pickled_model.recommend(\n",
        "    [864613],\n",
        "    dataset=dataset,\n",
        "    k=K_RECOS,\n",
        "    filter_viewed=True\n",
        ")"
      ]
    },
    {
      "cell_type": "markdown",
      "metadata": {
        "id": "TbCRv_cxJwTY"
      },
      "source": [
        "### Получим рекомендации для всех пользователей (оффлайн вариант)"
      ]
    },
    {
      "cell_type": "code",
      "execution_count": null,
      "metadata": {
        "id": "24zPdAANJvl5"
      },
      "outputs": [],
      "source": [
        "ALL_USERS = interactions[Columns.User].unique()"
      ]
    },
    {
      "cell_type": "code",
      "execution_count": null,
      "metadata": {
        "colab": {
          "base_uri": "https://localhost:8080/"
        },
        "id": "Tna9Ud-QSI75",
        "outputId": "1be2d464-e2e3-4970-952a-1078e76b3db2"
      },
      "outputs": [
        {
          "name": "stdout",
          "output_type": "stream",
          "text": [
            "CPU times: user 5min 58s, sys: 1min 48s, total: 7min 46s\n",
            "Wall time: 5min 33s\n"
          ]
        }
      ],
      "source": [
        "%%time\n",
        "\n",
        "recos = pickled_model.recommend(\n",
        "    users=ALL_USERS,\n",
        "    dataset=dataset,\n",
        "    k=10,\n",
        "    filter_viewed=True,\n",
        ")\n",
        "lightfm_recos = recos.groupby(\"user_id\")[\"item_id\"].agg(list).to_dict()"
      ]
    },
    {
      "cell_type": "code",
      "execution_count": null,
      "metadata": {
        "id": "Pp2_91gLT8W3"
      },
      "outputs": [],
      "source": [
        "# сохраним рекомендации\n",
        "with open(f\"{RECOS_PATH}/lightfm_recos.json\", \"w\") as f:\n",
        "    json.dump(lightfm_recos, f)"
      ]
    },
    {
      "cell_type": "markdown",
      "metadata": {
        "id": "vdpBrmc1WHc9"
      },
      "source": [
        "## Добавим ANN"
      ]
    },
    {
      "cell_type": "markdown",
      "metadata": {
        "id": "4TcuT4RQWO0_"
      },
      "source": [
        "Используем UserToItemAnnRecommender из rectools"
      ]
    },
    {
      "cell_type": "code",
      "execution_count": null,
      "metadata": {
        "colab": {
          "background_save": true
        },
        "id": "XD6gxBKMWTLc",
        "outputId": "8ba4b487-2186-4053-c1b3-e7776e51669a"
      },
      "outputs": [
        {
          "name": "stdout",
          "output_type": "stream",
          "text": [
            "CPU times: user 28min 54s, sys: 2.03 s, total: 28min 56s\n",
            "Wall time: 18min 23s\n"
          ]
        },
        {
          "data": {
            "text/plain": [
              "<rectools.tools.ann.UserToItemAnnRecommender at 0x7969e0586fe0>"
            ]
          },
          "execution_count": 17,
          "metadata": {},
          "output_type": "execute_result"
        }
      ],
      "source": [
        "%%time\n",
        "\n",
        "user_vectors, item_vectors = pickled_model.get_vectors(dataset)\n",
        "ann_lightfm = UserToItemAnnRecommender(\n",
        "    user_vectors=user_vectors,\n",
        "    item_vectors=item_vectors,\n",
        "    user_id_map=dataset.user_id_map,\n",
        "    item_id_map=dataset.item_id_map,\n",
        ")\n",
        "ann_lightfm.fit()"
      ]
    },
    {
      "cell_type": "code",
      "source": [
        "# проверим, что обученная модель выдает рекомендации\n",
        "ann_lightfm.get_item_list_for_user(864613, top_n=10).tolist()"
      ],
      "metadata": {
        "colab": {
          "base_uri": "https://localhost:8080/"
        },
        "id": "yLJ8MsLZdRnI",
        "outputId": "ee884eaf-2f44-4c1f-c78c-beba81aa43e7"
      },
      "execution_count": 18,
      "outputs": [
        {
          "output_type": "execute_result",
          "data": {
            "text/plain": [
              "[15297, 10440, 13865, 9728, 3734, 4151, 2657, 8636, 7829, 14431]"
            ]
          },
          "metadata": {},
          "execution_count": 18
        }
      ]
    },
    {
      "cell_type": "code",
      "source": [
        "pickle.dump(ann_lightfm, open(f\"{MODELS_PATH}/ann_lightfm_warp_64.pkl\", \"wb\"))"
      ],
      "metadata": {
        "id": "G_11cP7Xd49t"
      },
      "execution_count": 23,
      "outputs": []
    },
    {
      "cell_type": "code",
      "source": [
        "# проверим, что загруженная модель выдает рекомендации\n",
        "ann_lightfm_load = pickle.load(open(f\"{MODELS_PATH}/ann_lightfm_warp_64.pkl\", \"rb\"))\n",
        "ann_lightfm_load.get_item_list_for_user(864613, top_n=10).tolist()"
      ],
      "metadata": {
        "colab": {
          "base_uri": "https://localhost:8080/"
        },
        "id": "qmIUE0uQd_by",
        "outputId": "df2b3a62-997a-4df1-d5b2-ea64b98dcd2e"
      },
      "execution_count": 24,
      "outputs": [
        {
          "output_type": "execute_result",
          "data": {
            "text/plain": [
              "[15297, 10440, 13865, 9728, 3734, 4151, 2657, 8636, 7829, 14431]"
            ]
          },
          "metadata": {},
          "execution_count": 24
        }
      ]
    }
  ],
  "metadata": {
    "colab": {
      "toc_visible": true,
      "provenance": []
    },
    "kernelspec": {
      "display_name": "Python 3",
      "name": "python3"
    },
    "language_info": {
      "name": "python"
    }
  },
  "nbformat": 4,
  "nbformat_minor": 0
}